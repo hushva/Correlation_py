{
 "cells": [
  {
   "cell_type": "code",
   "execution_count": 399,
   "metadata": {},
   "outputs": [],
   "source": [
    "import pandas as pd\n",
    "import numpy as np\n",
    "import os\n",
    "import seaborn as sns\n",
    "import matplotlib.pyplot as plt\n",
    "%matplotlib inline"
   ]
  },
  {
   "cell_type": "code",
   "execution_count": 400,
   "metadata": {},
   "outputs": [],
   "source": [
    "# set working directory\n",
    "os.chdir(r'C:\\Users\\ilike\\Documents\\CEU\\Courses\\2021_Spring\\Mastering the process of data science\\Assignment')"
   ]
  },
  {
   "cell_type": "code",
   "execution_count": 401,
   "metadata": {},
   "outputs": [],
   "source": [
    "# set style for plots\n",
    "plt.style.use('seaborn-notebook')"
   ]
  },
  {
   "cell_type": "markdown",
   "metadata": {},
   "source": [
    "## Data preparation and understanding"
   ]
  },
  {
   "cell_type": "markdown",
   "metadata": {},
   "source": [
    "### 1. Read and prepare Drinks.csv"
   ]
  },
  {
   "cell_type": "code",
   "execution_count": 402,
   "metadata": {},
   "outputs": [],
   "source": [
    "# read data in\n",
    "drinks = pd.read_csv(\"Drinks.csv\", sep=\",\")"
   ]
  },
  {
   "cell_type": "code",
   "execution_count": 403,
   "metadata": {},
   "outputs": [
    {
     "data": {
      "text/html": [
       "<div>\n",
       "<style scoped>\n",
       "    .dataframe tbody tr th:only-of-type {\n",
       "        vertical-align: middle;\n",
       "    }\n",
       "\n",
       "    .dataframe tbody tr th {\n",
       "        vertical-align: top;\n",
       "    }\n",
       "\n",
       "    .dataframe thead th {\n",
       "        text-align: right;\n",
       "    }\n",
       "</style>\n",
       "<table border=\"1\" class=\"dataframe\">\n",
       "  <thead>\n",
       "    <tr style=\"text-align: right;\">\n",
       "      <th></th>\n",
       "      <th>country</th>\n",
       "      <th>beer_servings</th>\n",
       "      <th>spirit_servings</th>\n",
       "      <th>wine_servings</th>\n",
       "      <th>total_litres_of_pure_alcohol</th>\n",
       "    </tr>\n",
       "  </thead>\n",
       "  <tbody>\n",
       "    <tr>\n",
       "      <th>0</th>\n",
       "      <td>Afghanistan</td>\n",
       "      <td>0</td>\n",
       "      <td>0</td>\n",
       "      <td>0</td>\n",
       "      <td>NaN</td>\n",
       "    </tr>\n",
       "    <tr>\n",
       "      <th>1</th>\n",
       "      <td>Albania</td>\n",
       "      <td>89</td>\n",
       "      <td>132</td>\n",
       "      <td>54</td>\n",
       "      <td>NaN</td>\n",
       "    </tr>\n",
       "    <tr>\n",
       "      <th>2</th>\n",
       "      <td>Algeria</td>\n",
       "      <td>25</td>\n",
       "      <td>0</td>\n",
       "      <td>14</td>\n",
       "      <td>NaN</td>\n",
       "    </tr>\n",
       "  </tbody>\n",
       "</table>\n",
       "</div>"
      ],
      "text/plain": [
       "       country beer_servings spirit_servings wine_servings  \\\n",
       "0  Afghanistan             0               0             0   \n",
       "1      Albania            89             132            54   \n",
       "2      Algeria            25               0            14   \n",
       "\n",
       "   total_litres_of_pure_alcohol  \n",
       "0                           NaN  \n",
       "1                           NaN  \n",
       "2                           NaN  "
      ]
     },
     "execution_count": 403,
     "metadata": {},
     "output_type": "execute_result"
    }
   ],
   "source": [
    "drinks.head(3)"
   ]
  },
  {
   "cell_type": "code",
   "execution_count": 404,
   "metadata": {},
   "outputs": [
    {
     "data": {
      "text/plain": [
       "(193, 5)"
      ]
     },
     "execution_count": 404,
     "metadata": {},
     "output_type": "execute_result"
    }
   ],
   "source": [
    "# drinks dataframe consists of 5 variables and 195 rows\n",
    "drinks.shape"
   ]
  },
  {
   "cell_type": "code",
   "execution_count": 405,
   "metadata": {},
   "outputs": [
    {
     "data": {
      "text/plain": [
       "country                          object\n",
       "beer_servings                    object\n",
       "spirit_servings                  object\n",
       "wine_servings                    object\n",
       "total_litres_of_pure_alcohol    float64\n",
       "dtype: object"
      ]
     },
     "execution_count": 405,
     "metadata": {},
     "output_type": "execute_result"
    }
   ],
   "source": [
    "drinks.dtypes"
   ]
  },
  {
   "cell_type": "code",
   "execution_count": 406,
   "metadata": {},
   "outputs": [
    {
     "data": {
      "text/plain": [
       "array(['0', '89', '25', '245', '217', '102', '193', '21', '261', '279',\n",
       "       '122', '42', '143', '142', '295', '263', '34', '23', '167', '76',\n",
       "       '173', '31', '231', '88', '144', '57', '147', '240', '17', '15',\n",
       "       '130', '79', '159', '1', '149', '37', '230', '93', '192', '361',\n",
       "       '224', '52', '32', '162', '6', '92', '18', '20', '77', '127',\n",
       "       '347', '8', '346', '133', '199', '53', '9', '28', '69', '234',\n",
       "       '233', '5', '313', '63', '85', '82', '124', '58', '62', '281',\n",
       "       '19', '343', '236', '?', '26', '13', '98', '238', '109', '12',\n",
       "       '47', '376', '49', '251', '203', '78', '3', '188', '169', '22',\n",
       "       '306', '285', '44', '213', '163', '71', '194', '297', '247', '43',\n",
       "       '105', '56', '283', '157', '60', '196', '270', '225', '140', '284',\n",
       "       '16', '171', '120', '128', '90', '152', '185', '2', '36', '99',\n",
       "       '197', '51', '45', '206', '219', '115', '249', '333', '111', '64'],\n",
       "      dtype=object)"
      ]
     },
     "execution_count": 406,
     "metadata": {},
     "output_type": "execute_result"
    }
   ],
   "source": [
    "# check the unique values\n",
    "drinks['beer_servings'].unique()"
   ]
  },
  {
   "cell_type": "markdown",
   "metadata": {},
   "source": [
    "At one place there is a questionmark, which should be removed or replaced. Since the values are very different for the countries\n",
    "I am not going to calculate the mean but inpute NaN (also there are some 0-s, so giving zero for these countries would mean I am adding not valid data)"
   ]
  },
  {
   "cell_type": "code",
   "execution_count": 407,
   "metadata": {},
   "outputs": [
    {
     "data": {
      "text/html": [
       "<div>\n",
       "<style scoped>\n",
       "    .dataframe tbody tr th:only-of-type {\n",
       "        vertical-align: middle;\n",
       "    }\n",
       "\n",
       "    .dataframe tbody tr th {\n",
       "        vertical-align: top;\n",
       "    }\n",
       "\n",
       "    .dataframe thead th {\n",
       "        text-align: right;\n",
       "    }\n",
       "</style>\n",
       "<table border=\"1\" class=\"dataframe\">\n",
       "  <thead>\n",
       "    <tr style=\"text-align: right;\">\n",
       "      <th></th>\n",
       "      <th>country</th>\n",
       "      <th>beer_servings</th>\n",
       "      <th>spirit_servings</th>\n",
       "      <th>wine_servings</th>\n",
       "      <th>total_litres_of_pure_alcohol</th>\n",
       "    </tr>\n",
       "  </thead>\n",
       "  <tbody>\n",
       "    <tr>\n",
       "      <th>99</th>\n",
       "      <td>Macedonia</td>\n",
       "      <td>?</td>\n",
       "      <td>27</td>\n",
       "      <td>86</td>\n",
       "      <td>NaN</td>\n",
       "    </tr>\n",
       "  </tbody>\n",
       "</table>\n",
       "</div>"
      ],
      "text/plain": [
       "      country beer_servings spirit_servings wine_servings  \\\n",
       "99  Macedonia             ?              27            86   \n",
       "\n",
       "    total_litres_of_pure_alcohol  \n",
       "99                           NaN  "
      ]
     },
     "execution_count": 407,
     "metadata": {},
     "output_type": "execute_result"
    }
   ],
   "source": [
    "# First, let's see which record is that:\n",
    "drinks[drinks['beer_servings']=='?']"
   ]
  },
  {
   "cell_type": "code",
   "execution_count": 408,
   "metadata": {},
   "outputs": [],
   "source": [
    "# replace ? with NaN\n",
    "drinks['beer_servings'].replace('?',np.nan,inplace=True)"
   ]
  },
  {
   "cell_type": "code",
   "execution_count": 409,
   "metadata": {},
   "outputs": [],
   "source": [
    "# now I try to convert to integer\n",
    "drinks['beer_servings'] = pd.to_numeric(drinks.beer_servings, errors='coerce')"
   ]
  },
  {
   "cell_type": "code",
   "execution_count": 410,
   "metadata": {},
   "outputs": [
    {
     "data": {
      "text/plain": [
       "country                          object\n",
       "beer_servings                   float64\n",
       "spirit_servings                  object\n",
       "wine_servings                    object\n",
       "total_litres_of_pure_alcohol    float64\n",
       "dtype: object"
      ]
     },
     "execution_count": 410,
     "metadata": {},
     "output_type": "execute_result"
    }
   ],
   "source": [
    "# check if it worked\n",
    "drinks.dtypes"
   ]
  },
  {
   "cell_type": "code",
   "execution_count": 411,
   "metadata": {},
   "outputs": [
    {
     "data": {
      "text/plain": [
       "array(['0', '54', '14', '312', '45', '221', '11', '212', '191', '5', '?',\n",
       "       '7', '36', '42', '8', '13', '35', '16', '1', '94', '4', '100',\n",
       "       '172', '3', '9', '74', '254', '113', '134', '278', '26', '2',\n",
       "       '233', '59', '97', '370', '149', '175', '10', '218', '28', '21',\n",
       "       '185', '78', '165', '237', '12', '6', '123', '62', '31', '56',\n",
       "       '271', '86', '120', '18', '128', '190', '129', '23', '339', '167',\n",
       "       '73', '24', '140', '127', '51', '116', '276', '81', '112', '32',\n",
       "       '71', '186', '280', '19', '20', '195', '220', '84'], dtype=object)"
      ]
     },
     "execution_count": 411,
     "metadata": {},
     "output_type": "execute_result"
    }
   ],
   "source": [
    "# now check unique values similarly for the two other columns\n",
    "drinks['spirit_servings'].unique()\n",
    "drinks['wine_servings'].unique()"
   ]
  },
  {
   "cell_type": "code",
   "execution_count": 412,
   "metadata": {},
   "outputs": [],
   "source": [
    "# same issue with spirits column\n",
    "drinks['spirit_servings'].replace('?',np.nan,inplace=True)\n",
    "drinks['spirit_servings'] = pd.to_numeric(drinks.spirit_servings, errors='coerce')"
   ]
  },
  {
   "cell_type": "code",
   "execution_count": 413,
   "metadata": {},
   "outputs": [],
   "source": [
    "# and with wine\n",
    "drinks['wine_servings'].replace('?',np.nan,inplace=True)\n",
    "drinks['wine_servings'] = pd.to_numeric(drinks.wine_servings, errors='coerce')"
   ]
  },
  {
   "cell_type": "code",
   "execution_count": 414,
   "metadata": {},
   "outputs": [
    {
     "data": {
      "text/plain": [
       "country                          object\n",
       "beer_servings                   float64\n",
       "spirit_servings                 float64\n",
       "wine_servings                   float64\n",
       "total_litres_of_pure_alcohol    float64\n",
       "dtype: object"
      ]
     },
     "execution_count": 414,
     "metadata": {},
     "output_type": "execute_result"
    }
   ],
   "source": [
    "# all columns are numeric now\n",
    "drinks.dtypes"
   ]
  },
  {
   "cell_type": "code",
   "execution_count": 415,
   "metadata": {},
   "outputs": [
    {
     "data": {
      "text/plain": [
       "0"
      ]
     },
     "execution_count": 415,
     "metadata": {},
     "output_type": "execute_result"
    }
   ],
   "source": [
    "# check for duplicates\n",
    "drinks.duplicated().sum()"
   ]
  },
  {
   "cell_type": "markdown",
   "metadata": {},
   "source": [
    "There are no duplicates in the data."
   ]
  },
  {
   "cell_type": "code",
   "execution_count": 416,
   "metadata": {},
   "outputs": [
    {
     "data": {
      "text/plain": [
       "country                           0\n",
       "beer_servings                     1\n",
       "spirit_servings                   1\n",
       "wine_servings                     1\n",
       "total_litres_of_pure_alcohol    193\n",
       "dtype: int64"
      ]
     },
     "execution_count": 416,
     "metadata": {},
     "output_type": "execute_result"
    }
   ],
   "source": [
    "# verify if the conversion worked well \n",
    "drinks.isnull().sum()"
   ]
  },
  {
   "cell_type": "markdown",
   "metadata": {},
   "source": [
    "I can see that there are the three NaN-s I previously added, but also see that the last column is 100% consisting of missing values."
   ]
  },
  {
   "cell_type": "code",
   "execution_count": 417,
   "metadata": {},
   "outputs": [
    {
     "data": {
      "text/plain": [
       "<AxesSubplot:>"
      ]
     },
     "execution_count": 417,
     "metadata": {},
     "output_type": "execute_result"
    },
    {
     "data": {
      "image/png": "[encoded data removed]",
      "text/plain": [
       "<Figure size 576x396 with 1 Axes>"
      ]
     },
     "metadata": {
      "needs_background": "light"
     },
     "output_type": "display_data"
    }
   ],
   "source": [
    "drinks['beer_servings'].hist()"
   ]
  },
  {
   "cell_type": "code",
   "execution_count": 418,
   "metadata": {},
   "outputs": [
    {
     "data": {
      "text/plain": [
       "<AxesSubplot:>"
      ]
     },
     "execution_count": 418,
     "metadata": {},
     "output_type": "execute_result"
    },
    {
     "data": {
      "image/png": "[encoded data removed]",
      "text/plain": [
       "<Figure size 576x396 with 1 Axes>"
      ]
     },
     "metadata": {
      "needs_background": "light"
     },
     "output_type": "display_data"
    }
   ],
   "source": [
    "drinks['spirit_servings'].hist()"
   ]
  },
  {
   "cell_type": "code",
   "execution_count": 419,
   "metadata": {},
   "outputs": [
    {
     "data": {
      "text/plain": [
       "<AxesSubplot:>"
      ]
     },
     "execution_count": 419,
     "metadata": {},
     "output_type": "execute_result"
    },
    {
     "data": {
      "image/png": "[encoded data removed]",
      "text/plain": [
       "<Figure size 576x396 with 1 Axes>"
      ]
     },
     "metadata": {
      "needs_background": "light"
     },
     "output_type": "display_data"
    }
   ],
   "source": [
    "drinks['wine_servings'].hist()"
   ]
  },
  {
   "cell_type": "markdown",
   "metadata": {},
   "source": [
    "From the histograms we can tell that the range for number of servings in terms of beer and wine is between 0-370ish, whilst for spirits it is a bit higher, around 430. Another statement could be that higher amount of beer servings are more common than that for wine as seen looking at the tails of the histograms."
   ]
  },
  {
   "cell_type": "code",
   "execution_count": 420,
   "metadata": {},
   "outputs": [
    {
     "data": {
      "text/html": [
       "<div>\n",
       "<style scoped>\n",
       "    .dataframe tbody tr th:only-of-type {\n",
       "        vertical-align: middle;\n",
       "    }\n",
       "\n",
       "    .dataframe tbody tr th {\n",
       "        vertical-align: top;\n",
       "    }\n",
       "\n",
       "    .dataframe thead th {\n",
       "        text-align: right;\n",
       "    }\n",
       "</style>\n",
       "<table border=\"1\" class=\"dataframe\">\n",
       "  <thead>\n",
       "    <tr style=\"text-align: right;\">\n",
       "      <th></th>\n",
       "      <th>country</th>\n",
       "      <th>beer_servings</th>\n",
       "      <th>spirit_servings</th>\n",
       "      <th>wine_servings</th>\n",
       "      <th>total_litres_of_pure_alcohol</th>\n",
       "    </tr>\n",
       "  </thead>\n",
       "  <tbody>\n",
       "    <tr>\n",
       "      <th>count</th>\n",
       "      <td>193</td>\n",
       "      <td>192.000000</td>\n",
       "      <td>192.000000</td>\n",
       "      <td>192.000000</td>\n",
       "      <td>0.0</td>\n",
       "    </tr>\n",
       "    <tr>\n",
       "      <th>unique</th>\n",
       "      <td>193</td>\n",
       "      <td>NaN</td>\n",
       "      <td>NaN</td>\n",
       "      <td>NaN</td>\n",
       "      <td>NaN</td>\n",
       "    </tr>\n",
       "    <tr>\n",
       "      <th>top</th>\n",
       "      <td>Niger</td>\n",
       "      <td>NaN</td>\n",
       "      <td>NaN</td>\n",
       "      <td>NaN</td>\n",
       "      <td>NaN</td>\n",
       "    </tr>\n",
       "    <tr>\n",
       "      <th>freq</th>\n",
       "      <td>1</td>\n",
       "      <td>NaN</td>\n",
       "      <td>NaN</td>\n",
       "      <td>NaN</td>\n",
       "      <td>NaN</td>\n",
       "    </tr>\n",
       "    <tr>\n",
       "      <th>mean</th>\n",
       "      <td>NaN</td>\n",
       "      <td>106.161458</td>\n",
       "      <td>80.994792</td>\n",
       "      <td>49.442708</td>\n",
       "      <td>NaN</td>\n",
       "    </tr>\n",
       "    <tr>\n",
       "      <th>std</th>\n",
       "      <td>NaN</td>\n",
       "      <td>101.407529</td>\n",
       "      <td>88.515121</td>\n",
       "      <td>79.905880</td>\n",
       "      <td>NaN</td>\n",
       "    </tr>\n",
       "    <tr>\n",
       "      <th>min</th>\n",
       "      <td>NaN</td>\n",
       "      <td>0.000000</td>\n",
       "      <td>0.000000</td>\n",
       "      <td>0.000000</td>\n",
       "      <td>NaN</td>\n",
       "    </tr>\n",
       "    <tr>\n",
       "      <th>25%</th>\n",
       "      <td>NaN</td>\n",
       "      <td>20.000000</td>\n",
       "      <td>4.000000</td>\n",
       "      <td>1.000000</td>\n",
       "      <td>NaN</td>\n",
       "    </tr>\n",
       "    <tr>\n",
       "      <th>50%</th>\n",
       "      <td>NaN</td>\n",
       "      <td>73.500000</td>\n",
       "      <td>55.500000</td>\n",
       "      <td>8.000000</td>\n",
       "      <td>NaN</td>\n",
       "    </tr>\n",
       "    <tr>\n",
       "      <th>75%</th>\n",
       "      <td>NaN</td>\n",
       "      <td>189.000000</td>\n",
       "      <td>128.750000</td>\n",
       "      <td>59.750000</td>\n",
       "      <td>NaN</td>\n",
       "    </tr>\n",
       "    <tr>\n",
       "      <th>max</th>\n",
       "      <td>NaN</td>\n",
       "      <td>376.000000</td>\n",
       "      <td>438.000000</td>\n",
       "      <td>370.000000</td>\n",
       "      <td>NaN</td>\n",
       "    </tr>\n",
       "  </tbody>\n",
       "</table>\n",
       "</div>"
      ],
      "text/plain": [
       "       country  beer_servings  spirit_servings  wine_servings  \\\n",
       "count      193     192.000000       192.000000     192.000000   \n",
       "unique     193            NaN              NaN            NaN   \n",
       "top      Niger            NaN              NaN            NaN   \n",
       "freq         1            NaN              NaN            NaN   \n",
       "mean       NaN     106.161458        80.994792      49.442708   \n",
       "std        NaN     101.407529        88.515121      79.905880   \n",
       "min        NaN       0.000000         0.000000       0.000000   \n",
       "25%        NaN      20.000000         4.000000       1.000000   \n",
       "50%        NaN      73.500000        55.500000       8.000000   \n",
       "75%        NaN     189.000000       128.750000      59.750000   \n",
       "max        NaN     376.000000       438.000000     370.000000   \n",
       "\n",
       "        total_litres_of_pure_alcohol  \n",
       "count                            0.0  \n",
       "unique                           NaN  \n",
       "top                              NaN  \n",
       "freq                             NaN  \n",
       "mean                             NaN  \n",
       "std                              NaN  \n",
       "min                              NaN  \n",
       "25%                              NaN  \n",
       "50%                              NaN  \n",
       "75%                              NaN  \n",
       "max                              NaN  "
      ]
     },
     "execution_count": 420,
     "metadata": {},
     "output_type": "execute_result"
    }
   ],
   "source": [
    "drinks.describe(include='all')"
   ]
  },
  {
   "cell_type": "markdown",
   "metadata": {},
   "source": [
    "The above estimated numbers can be followed up on this summary statistic table. Indeed, maximum number of servings for beer (376) and for wine (370) are lower than for spirits (428) and the most variation is in the beer servings. Furthermore on average the number of servings for wine are the least and for beer the most. I would expect actually that wine servings will be on the second place and spirits come lastly. "
   ]
  },
  {
   "cell_type": "markdown",
   "metadata": {},
   "source": [
    "### 2. Calculate total liters of pure alcohol using the following information:\n",
    "1 ounce = 0.0295 l\n",
    "- Beer serving: 12 ounces, 5% alcohol\n",
    "- Spirit serving: 1.5 ounces 40% alcohol\n",
    "- Wine serving: 5 ounces, 12% alcohol"
   ]
  },
  {
   "cell_type": "code",
   "execution_count": 421,
   "metadata": {},
   "outputs": [
    {
     "data": {
      "text/html": [
       "<div>\n",
       "<style scoped>\n",
       "    .dataframe tbody tr th:only-of-type {\n",
       "        vertical-align: middle;\n",
       "    }\n",
       "\n",
       "    .dataframe tbody tr th {\n",
       "        vertical-align: top;\n",
       "    }\n",
       "\n",
       "    .dataframe thead th {\n",
       "        text-align: right;\n",
       "    }\n",
       "</style>\n",
       "<table border=\"1\" class=\"dataframe\">\n",
       "  <thead>\n",
       "    <tr style=\"text-align: right;\">\n",
       "      <th></th>\n",
       "      <th>country</th>\n",
       "      <th>beer_servings</th>\n",
       "      <th>spirit_servings</th>\n",
       "      <th>wine_servings</th>\n",
       "      <th>total_litres_of_pure_alcohol</th>\n",
       "    </tr>\n",
       "  </thead>\n",
       "  <tbody>\n",
       "    <tr>\n",
       "      <th>0</th>\n",
       "      <td>Afghanistan</td>\n",
       "      <td>0.0</td>\n",
       "      <td>0.0</td>\n",
       "      <td>0.0</td>\n",
       "      <td>NaN</td>\n",
       "    </tr>\n",
       "    <tr>\n",
       "      <th>1</th>\n",
       "      <td>Albania</td>\n",
       "      <td>89.0</td>\n",
       "      <td>132.0</td>\n",
       "      <td>54.0</td>\n",
       "      <td>NaN</td>\n",
       "    </tr>\n",
       "    <tr>\n",
       "      <th>2</th>\n",
       "      <td>Algeria</td>\n",
       "      <td>25.0</td>\n",
       "      <td>0.0</td>\n",
       "      <td>14.0</td>\n",
       "      <td>NaN</td>\n",
       "    </tr>\n",
       "    <tr>\n",
       "      <th>3</th>\n",
       "      <td>Andorra</td>\n",
       "      <td>245.0</td>\n",
       "      <td>138.0</td>\n",
       "      <td>312.0</td>\n",
       "      <td>NaN</td>\n",
       "    </tr>\n",
       "    <tr>\n",
       "      <th>4</th>\n",
       "      <td>Angola</td>\n",
       "      <td>217.0</td>\n",
       "      <td>57.0</td>\n",
       "      <td>45.0</td>\n",
       "      <td>NaN</td>\n",
       "    </tr>\n",
       "  </tbody>\n",
       "</table>\n",
       "</div>"
      ],
      "text/plain": [
       "       country  beer_servings  spirit_servings  wine_servings  \\\n",
       "0  Afghanistan            0.0              0.0            0.0   \n",
       "1      Albania           89.0            132.0           54.0   \n",
       "2      Algeria           25.0              0.0           14.0   \n",
       "3      Andorra          245.0            138.0          312.0   \n",
       "4       Angola          217.0             57.0           45.0   \n",
       "\n",
       "   total_litres_of_pure_alcohol  \n",
       "0                           NaN  \n",
       "1                           NaN  \n",
       "2                           NaN  \n",
       "3                           NaN  \n",
       "4                           NaN  "
      ]
     },
     "execution_count": 421,
     "metadata": {},
     "output_type": "execute_result"
    }
   ],
   "source": [
    "drinks.head(5)"
   ]
  },
  {
   "cell_type": "code",
   "execution_count": 422,
   "metadata": {},
   "outputs": [],
   "source": [
    "# calculate total liters\n",
    "drinks['total_litres_of_pure_alcohol'] = np.where(drinks['total_litres_of_pure_alcohol'].isnull() == True,12*0.0295*drinks['beer_servings']*0.05+1.5*0.0295*drinks['spirit_servings']*0.4+5*0.0295*drinks['wine_servings']*0.12, drinks['total_litres_of_pure_alcohol'])"
   ]
  },
  {
   "cell_type": "code",
   "execution_count": 423,
   "metadata": {},
   "outputs": [
    {
     "data": {
      "text/html": [
       "<div>\n",
       "<style scoped>\n",
       "    .dataframe tbody tr th:only-of-type {\n",
       "        vertical-align: middle;\n",
       "    }\n",
       "\n",
       "    .dataframe tbody tr th {\n",
       "        vertical-align: top;\n",
       "    }\n",
       "\n",
       "    .dataframe thead th {\n",
       "        text-align: right;\n",
       "    }\n",
       "</style>\n",
       "<table border=\"1\" class=\"dataframe\">\n",
       "  <thead>\n",
       "    <tr style=\"text-align: right;\">\n",
       "      <th></th>\n",
       "      <th>country</th>\n",
       "      <th>beer_servings</th>\n",
       "      <th>spirit_servings</th>\n",
       "      <th>wine_servings</th>\n",
       "      <th>total_litres_of_pure_alcohol</th>\n",
       "    </tr>\n",
       "  </thead>\n",
       "  <tbody>\n",
       "    <tr>\n",
       "      <th>0</th>\n",
       "      <td>Afghanistan</td>\n",
       "      <td>0.0</td>\n",
       "      <td>0.0</td>\n",
       "      <td>0.0</td>\n",
       "      <td>0.0000</td>\n",
       "    </tr>\n",
       "    <tr>\n",
       "      <th>1</th>\n",
       "      <td>Albania</td>\n",
       "      <td>89.0</td>\n",
       "      <td>132.0</td>\n",
       "      <td>54.0</td>\n",
       "      <td>4.8675</td>\n",
       "    </tr>\n",
       "    <tr>\n",
       "      <th>2</th>\n",
       "      <td>Algeria</td>\n",
       "      <td>25.0</td>\n",
       "      <td>0.0</td>\n",
       "      <td>14.0</td>\n",
       "      <td>0.6903</td>\n",
       "    </tr>\n",
       "  </tbody>\n",
       "</table>\n",
       "</div>"
      ],
      "text/plain": [
       "       country  beer_servings  spirit_servings  wine_servings  \\\n",
       "0  Afghanistan            0.0              0.0            0.0   \n",
       "1      Albania           89.0            132.0           54.0   \n",
       "2      Algeria           25.0              0.0           14.0   \n",
       "\n",
       "   total_litres_of_pure_alcohol  \n",
       "0                        0.0000  \n",
       "1                        4.8675  \n",
       "2                        0.6903  "
      ]
     },
     "execution_count": 423,
     "metadata": {},
     "output_type": "execute_result"
    }
   ],
   "source": [
    "# check calculation\n",
    "drinks.head(3)"
   ]
  },
  {
   "cell_type": "markdown",
   "metadata": {},
   "source": [
    "### 3. Read, understand and prepare LifeExpectancy.csv"
   ]
  },
  {
   "cell_type": "code",
   "execution_count": 424,
   "metadata": {},
   "outputs": [],
   "source": [
    "# read in csv\n",
    "life_expectancy = pd.read_csv(\"LifeExpectancy.csv\", sep=\",\")"
   ]
  },
  {
   "cell_type": "code",
   "execution_count": 425,
   "metadata": {},
   "outputs": [
    {
     "data": {
      "text/html": [
       "<div>\n",
       "<style scoped>\n",
       "    .dataframe tbody tr th:only-of-type {\n",
       "        vertical-align: middle;\n",
       "    }\n",
       "\n",
       "    .dataframe tbody tr th {\n",
       "        vertical-align: top;\n",
       "    }\n",
       "\n",
       "    .dataframe thead th {\n",
       "        text-align: right;\n",
       "    }\n",
       "</style>\n",
       "<table border=\"1\" class=\"dataframe\">\n",
       "  <thead>\n",
       "    <tr style=\"text-align: right;\">\n",
       "      <th></th>\n",
       "      <th>GhoCode</th>\n",
       "      <th>GhoDisplay</th>\n",
       "      <th>PublishStateCode</th>\n",
       "      <th>PublishStateDisplay</th>\n",
       "      <th>YearCode</th>\n",
       "      <th>YearDisplay</th>\n",
       "      <th>RegionCode</th>\n",
       "      <th>RegionDisplay</th>\n",
       "      <th>WorldBankIncomeGroupGroupCode</th>\n",
       "      <th>WorldBankIncomeGroupDisplay</th>\n",
       "      <th>CountryCode</th>\n",
       "      <th>CountryDisplay</th>\n",
       "      <th>SexCode</th>\n",
       "      <th>SexDisplay</th>\n",
       "      <th>DisplayValue</th>\n",
       "      <th>Numeric</th>\n",
       "    </tr>\n",
       "  </thead>\n",
       "  <tbody>\n",
       "    <tr>\n",
       "      <th>0</th>\n",
       "      <td>WHOSIS_000001</td>\n",
       "      <td>Life expectancy at birth (years)</td>\n",
       "      <td>PUBLISHED</td>\n",
       "      <td>Published</td>\n",
       "      <td>2013</td>\n",
       "      <td>2013</td>\n",
       "      <td>EMR</td>\n",
       "      <td>Eastern Mediterranean</td>\n",
       "      <td>NaN</td>\n",
       "      <td>NaN</td>\n",
       "      <td>AFG</td>\n",
       "      <td>Afghanistan</td>\n",
       "      <td>BTSX</td>\n",
       "      <td>Both sexes</td>\n",
       "      <td>61</td>\n",
       "      <td>61.25205</td>\n",
       "    </tr>\n",
       "    <tr>\n",
       "      <th>1</th>\n",
       "      <td>WHOSIS_000001</td>\n",
       "      <td>Life expectancy at birth (years)</td>\n",
       "      <td>PUBLISHED</td>\n",
       "      <td>Published</td>\n",
       "      <td>2013</td>\n",
       "      <td>2013</td>\n",
       "      <td>EMR</td>\n",
       "      <td>Eastern Mediterranean</td>\n",
       "      <td>NaN</td>\n",
       "      <td>NaN</td>\n",
       "      <td>AFG</td>\n",
       "      <td>Afghanistan</td>\n",
       "      <td>FMLE</td>\n",
       "      <td>Female</td>\n",
       "      <td>62</td>\n",
       "      <td>61.97733</td>\n",
       "    </tr>\n",
       "    <tr>\n",
       "      <th>2</th>\n",
       "      <td>WHOSIS_000001</td>\n",
       "      <td>Life expectancy at birth (years)</td>\n",
       "      <td>PUBLISHED</td>\n",
       "      <td>Published</td>\n",
       "      <td>2013</td>\n",
       "      <td>2013</td>\n",
       "      <td>EMR</td>\n",
       "      <td>Eastern Mediterranean</td>\n",
       "      <td>NaN</td>\n",
       "      <td>NaN</td>\n",
       "      <td>AFG</td>\n",
       "      <td>Afghanistan</td>\n",
       "      <td>MLE</td>\n",
       "      <td>Male</td>\n",
       "      <td>61</td>\n",
       "      <td>60.51228</td>\n",
       "    </tr>\n",
       "  </tbody>\n",
       "</table>\n",
       "</div>"
      ],
      "text/plain": [
       "         GhoCode                        GhoDisplay PublishStateCode  \\\n",
       "0  WHOSIS_000001  Life expectancy at birth (years)        PUBLISHED   \n",
       "1  WHOSIS_000001  Life expectancy at birth (years)        PUBLISHED   \n",
       "2  WHOSIS_000001  Life expectancy at birth (years)        PUBLISHED   \n",
       "\n",
       "  PublishStateDisplay  YearCode  YearDisplay RegionCode  \\\n",
       "0           Published      2013         2013        EMR   \n",
       "1           Published      2013         2013        EMR   \n",
       "2           Published      2013         2013        EMR   \n",
       "\n",
       "           RegionDisplay WorldBankIncomeGroupGroupCode  \\\n",
       "0  Eastern Mediterranean                           NaN   \n",
       "1  Eastern Mediterranean                           NaN   \n",
       "2  Eastern Mediterranean                           NaN   \n",
       "\n",
       "  WorldBankIncomeGroupDisplay CountryCode CountryDisplay SexCode  SexDisplay  \\\n",
       "0                         NaN         AFG    Afghanistan    BTSX  Both sexes   \n",
       "1                         NaN         AFG    Afghanistan    FMLE      Female   \n",
       "2                         NaN         AFG    Afghanistan     MLE        Male   \n",
       "\n",
       "   DisplayValue   Numeric  \n",
       "0            61  61.25205  \n",
       "1            62  61.97733  \n",
       "2            61  60.51228  "
      ]
     },
     "execution_count": 425,
     "metadata": {},
     "output_type": "execute_result"
    }
   ],
   "source": [
    "life_expectancy.head(3)"
   ]
  },
  {
   "cell_type": "code",
   "execution_count": 426,
   "metadata": {},
   "outputs": [
    {
     "data": {
      "text/plain": [
       "GhoCode                           object\n",
       "GhoDisplay                        object\n",
       "PublishStateCode                  object\n",
       "PublishStateDisplay               object\n",
       "YearCode                           int64\n",
       "YearDisplay                        int64\n",
       "RegionCode                        object\n",
       "RegionDisplay                     object\n",
       "WorldBankIncomeGroupGroupCode     object\n",
       "WorldBankIncomeGroupDisplay       object\n",
       "CountryCode                       object\n",
       "CountryDisplay                    object\n",
       "SexCode                           object\n",
       "SexDisplay                        object\n",
       "DisplayValue                       int64\n",
       "Numeric                          float64\n",
       "dtype: object"
      ]
     },
     "execution_count": 426,
     "metadata": {},
     "output_type": "execute_result"
    }
   ],
   "source": [
    "life_expectancy.dtypes"
   ]
  },
  {
   "cell_type": "markdown",
   "metadata": {},
   "source": [
    "The data types look good in the table: all text is string and the year and the life expectance value are integers, and available in a float as well with the precise number."
   ]
  },
  {
   "cell_type": "code",
   "execution_count": 427,
   "metadata": {},
   "outputs": [
    {
     "data": {
      "text/plain": [
       "array([2013, 2012, 2000, 1990], dtype=int64)"
      ]
     },
     "execution_count": 427,
     "metadata": {},
     "output_type": "execute_result"
    }
   ],
   "source": [
    "# check the latest available year\n",
    "life_expectancy['YearDisplay'].unique()"
   ]
  },
  {
   "cell_type": "code",
   "execution_count": 428,
   "metadata": {},
   "outputs": [
    {
     "data": {
      "text/plain": [
       "0"
      ]
     },
     "execution_count": 428,
     "metadata": {},
     "output_type": "execute_result"
    }
   ],
   "source": [
    "# check if there are duplicates\n",
    "life_expectancy.duplicated().sum()"
   ]
  },
  {
   "cell_type": "markdown",
   "metadata": {},
   "source": [
    "There are no duplicates in the data."
   ]
  },
  {
   "cell_type": "code",
   "execution_count": 429,
   "metadata": {},
   "outputs": [
    {
     "data": {
      "text/plain": [
       "(6408, 16)"
      ]
     },
     "execution_count": 429,
     "metadata": {},
     "output_type": "execute_result"
    }
   ],
   "source": [
    "life_expectancy.shape"
   ]
  },
  {
   "cell_type": "markdown",
   "metadata": {},
   "source": [
    "There are 16 variables and 6408 rows in this dataframe."
   ]
  },
  {
   "cell_type": "code",
   "execution_count": 430,
   "metadata": {},
   "outputs": [
    {
     "data": {
      "text/plain": [
       "GhoCode                             0\n",
       "GhoDisplay                          0\n",
       "PublishStateCode                    0\n",
       "PublishStateDisplay                 0\n",
       "YearCode                            0\n",
       "YearDisplay                         0\n",
       "RegionCode                          0\n",
       "RegionDisplay                       0\n",
       "WorldBankIncomeGroupGroupCode    1164\n",
       "WorldBankIncomeGroupDisplay      1164\n",
       "CountryCode                         0\n",
       "CountryDisplay                      0\n",
       "SexCode                             0\n",
       "SexDisplay                          0\n",
       "DisplayValue                        0\n",
       "Numeric                             0\n",
       "dtype: int64"
      ]
     },
     "execution_count": 430,
     "metadata": {},
     "output_type": "execute_result"
    }
   ],
   "source": [
    "# check missing values in each column\n",
    "life_expectancy.isnull().sum()"
   ]
  },
  {
   "cell_type": "markdown",
   "metadata": {},
   "source": [
    "Data seems complete with the exception of the WorldBankIncomeGroup variable and the corresponding text. It is missing in 1164 cases which is roughly 18% of the total number of observations (8408), but for now we do not want to use this column."
   ]
  },
  {
   "cell_type": "code",
   "execution_count": 431,
   "metadata": {},
   "outputs": [
    {
     "data": {
      "text/html": [
       "<div>\n",
       "<style scoped>\n",
       "    .dataframe tbody tr th:only-of-type {\n",
       "        vertical-align: middle;\n",
       "    }\n",
       "\n",
       "    .dataframe tbody tr th {\n",
       "        vertical-align: top;\n",
       "    }\n",
       "\n",
       "    .dataframe thead th {\n",
       "        text-align: right;\n",
       "    }\n",
       "</style>\n",
       "<table border=\"1\" class=\"dataframe\">\n",
       "  <thead>\n",
       "    <tr style=\"text-align: right;\">\n",
       "      <th></th>\n",
       "      <th>YearCode</th>\n",
       "      <th>YearDisplay</th>\n",
       "      <th>DisplayValue</th>\n",
       "      <th>Numeric</th>\n",
       "    </tr>\n",
       "  </thead>\n",
       "  <tbody>\n",
       "    <tr>\n",
       "      <th>count</th>\n",
       "      <td>6408.000000</td>\n",
       "      <td>6408.000000</td>\n",
       "      <td>6408.000000</td>\n",
       "      <td>6408.000000</td>\n",
       "    </tr>\n",
       "    <tr>\n",
       "      <th>mean</th>\n",
       "      <td>2005.000936</td>\n",
       "      <td>2005.000936</td>\n",
       "      <td>48.143571</td>\n",
       "      <td>48.145528</td>\n",
       "    </tr>\n",
       "    <tr>\n",
       "      <th>std</th>\n",
       "      <td>8.861084</td>\n",
       "      <td>8.861084</td>\n",
       "      <td>23.774807</td>\n",
       "      <td>23.775598</td>\n",
       "    </tr>\n",
       "    <tr>\n",
       "      <th>min</th>\n",
       "      <td>1990.000000</td>\n",
       "      <td>1990.000000</td>\n",
       "      <td>11.000000</td>\n",
       "      <td>11.000000</td>\n",
       "    </tr>\n",
       "    <tr>\n",
       "      <th>25%</th>\n",
       "      <td>2000.000000</td>\n",
       "      <td>2000.000000</td>\n",
       "      <td>20.000000</td>\n",
       "      <td>20.000000</td>\n",
       "    </tr>\n",
       "    <tr>\n",
       "      <th>50%</th>\n",
       "      <td>2012.000000</td>\n",
       "      <td>2012.000000</td>\n",
       "      <td>57.000000</td>\n",
       "      <td>56.979710</td>\n",
       "    </tr>\n",
       "    <tr>\n",
       "      <th>75%</th>\n",
       "      <td>2013.000000</td>\n",
       "      <td>2013.000000</td>\n",
       "      <td>69.000000</td>\n",
       "      <td>69.000000</td>\n",
       "    </tr>\n",
       "    <tr>\n",
       "      <th>max</th>\n",
       "      <td>2013.000000</td>\n",
       "      <td>2013.000000</td>\n",
       "      <td>87.000000</td>\n",
       "      <td>87.154570</td>\n",
       "    </tr>\n",
       "  </tbody>\n",
       "</table>\n",
       "</div>"
      ],
      "text/plain": [
       "          YearCode  YearDisplay  DisplayValue      Numeric\n",
       "count  6408.000000  6408.000000   6408.000000  6408.000000\n",
       "mean   2005.000936  2005.000936     48.143571    48.145528\n",
       "std       8.861084     8.861084     23.774807    23.775598\n",
       "min    1990.000000  1990.000000     11.000000    11.000000\n",
       "25%    2000.000000  2000.000000     20.000000    20.000000\n",
       "50%    2012.000000  2012.000000     57.000000    56.979710\n",
       "75%    2013.000000  2013.000000     69.000000    69.000000\n",
       "max    2013.000000  2013.000000     87.000000    87.154570"
      ]
     },
     "execution_count": 431,
     "metadata": {},
     "output_type": "execute_result"
    }
   ],
   "source": [
    "# take a look at only the numerical variables\n",
    "life_expectancy.describe()"
   ]
  },
  {
   "cell_type": "markdown",
   "metadata": {},
   "source": [
    "Besides year there is only the life expectancy score which is displayed. Year is indeed from 1990 to 2013 and in total the average for life expectancy is 48 years. Lowest life expectancy is 11 years and highest is 87 years.\n",
    "It could be interesting to look at how life expectancy varies by available years."
   ]
  },
  {
   "cell_type": "code",
   "execution_count": 432,
   "metadata": {},
   "outputs": [
    {
     "data": {
      "text/plain": [
       "Text(0.5, 1.0, 'Average life expectancy per year')"
      ]
     },
     "execution_count": 432,
     "metadata": {},
     "output_type": "execute_result"
    },
    {
     "data": {
      "image/png": "[encoded data removed]",
      "text/plain": [
       "<Figure size 432x432 with 1 Axes>"
      ]
     },
     "metadata": {
      "needs_background": "light"
     },
     "output_type": "display_data"
    }
   ],
   "source": [
    "# check how average life expectancy changed over the years\n",
    "life_bar = life_expectancy.groupby('YearDisplay')['Numeric'].mean()\n",
    "life_bar.plot(kind='bar', figsize=(6,6)).set_title('Average life expectancy per year', fontsize=14)"
   ]
  },
  {
   "cell_type": "markdown",
   "metadata": {},
   "source": [
    "Breaking down by year, the mean life expectancy has increased: within 23 years with almost 10 years!"
   ]
  },
  {
   "cell_type": "code",
   "execution_count": 503,
   "metadata": {},
   "outputs": [],
   "source": [
    "# create df for plotting gender per year\n",
    "gender_df = life_expectancy.groupby(['YearDisplay', 'SexDisplay'])['Numeric'].mean().reset_index()"
   ]
  },
  {
   "cell_type": "code",
   "execution_count": 504,
   "metadata": {},
   "outputs": [
    {
     "data": {
      "text/html": [
       "<div>\n",
       "<style scoped>\n",
       "    .dataframe tbody tr th:only-of-type {\n",
       "        vertical-align: middle;\n",
       "    }\n",
       "\n",
       "    .dataframe tbody tr th {\n",
       "        vertical-align: top;\n",
       "    }\n",
       "\n",
       "    .dataframe thead th {\n",
       "        text-align: right;\n",
       "    }\n",
       "</style>\n",
       "<table border=\"1\" class=\"dataframe\">\n",
       "  <thead>\n",
       "    <tr style=\"text-align: right;\">\n",
       "      <th></th>\n",
       "      <th>YearDisplay</th>\n",
       "      <th>SexDisplay</th>\n",
       "      <th>Numeric</th>\n",
       "    </tr>\n",
       "  </thead>\n",
       "  <tbody>\n",
       "    <tr>\n",
       "      <th>0</th>\n",
       "      <td>1990</td>\n",
       "      <td>Both sexes</td>\n",
       "      <td>41.335052</td>\n",
       "    </tr>\n",
       "    <tr>\n",
       "      <th>1</th>\n",
       "      <td>1990</td>\n",
       "      <td>Female</td>\n",
       "      <td>43.208763</td>\n",
       "    </tr>\n",
       "    <tr>\n",
       "      <th>2</th>\n",
       "      <td>1990</td>\n",
       "      <td>Male</td>\n",
       "      <td>39.443299</td>\n",
       "    </tr>\n",
       "    <tr>\n",
       "      <th>3</th>\n",
       "      <td>2000</td>\n",
       "      <td>Both sexes</td>\n",
       "      <td>47.635334</td>\n",
       "    </tr>\n",
       "    <tr>\n",
       "      <th>4</th>\n",
       "      <td>2000</td>\n",
       "      <td>Female</td>\n",
       "      <td>49.420069</td>\n",
       "    </tr>\n",
       "  </tbody>\n",
       "</table>\n",
       "</div>"
      ],
      "text/plain": [
       "   YearDisplay  SexDisplay    Numeric\n",
       "0         1990  Both sexes  41.335052\n",
       "1         1990      Female  43.208763\n",
       "2         1990        Male  39.443299\n",
       "3         2000  Both sexes  47.635334\n",
       "4         2000      Female  49.420069"
      ]
     },
     "execution_count": 504,
     "metadata": {},
     "output_type": "execute_result"
    }
   ],
   "source": [
    "gender_df.head()"
   ]
  },
  {
   "cell_type": "code",
   "execution_count": 435,
   "metadata": {},
   "outputs": [
    {
     "data": {
      "text/plain": [
       "<seaborn.axisgrid.FacetGrid at 0x26a33f21d08>"
      ]
     },
     "execution_count": 435,
     "metadata": {},
     "output_type": "execute_result"
    },
    {
     "data": {
      "image/png": "[encoded data removed]",
      "text/plain": [
       "<Figure size 445.625x360 with 1 Axes>"
      ]
     },
     "metadata": {},
     "output_type": "display_data"
    }
   ],
   "source": [
    "sns.set_style(\"white\")\n",
    "sns.catplot(data=gender_df, kind=\"bar\", x=\"YearDisplay\", y=\"Numeric\", hue=\"SexDisplay\")"
   ]
  },
  {
   "cell_type": "markdown",
   "metadata": {},
   "source": [
    "Breaking down the data not only by year but by gender, we can see difference between the sexes: females have a somewhat hogher age for life expectance than men, and although it is increasing for both genders, the difference between the two seems to be constant."
   ]
  },
  {
   "cell_type": "code",
   "execution_count": 436,
   "metadata": {},
   "outputs": [
    {
     "data": {
      "text/plain": [
       "Europe                   1749\n",
       "Africa                   1524\n",
       "Americas                 1155\n",
       "Western Pacific           891\n",
       "Eastern Mediterranean     726\n",
       "South_East Asia           363\n",
       "Name: RegionDisplay, dtype: int64"
      ]
     },
     "execution_count": 436,
     "metadata": {},
     "output_type": "execute_result"
    }
   ],
   "source": [
    "# let's explore further our data\n",
    "life_expectancy['RegionDisplay'].value_counts()"
   ]
  },
  {
   "cell_type": "markdown",
   "metadata": {},
   "source": [
    "There are 1749 observations that refer to a European country and only 363 which refer to a country in South-East Asia."
   ]
  },
  {
   "cell_type": "code",
   "execution_count": 437,
   "metadata": {},
   "outputs": [],
   "source": [
    "# filter down for the latest year, since we are interested in only these life expectancy values for the analysis.\n",
    "le_2013 = life_expectancy[life_expectancy['YearDisplay']==2013]"
   ]
  },
  {
   "cell_type": "code",
   "execution_count": 438,
   "metadata": {},
   "outputs": [
    {
     "data": {
      "text/html": [
       "<div>\n",
       "<style scoped>\n",
       "    .dataframe tbody tr th:only-of-type {\n",
       "        vertical-align: middle;\n",
       "    }\n",
       "\n",
       "    .dataframe tbody tr th {\n",
       "        vertical-align: top;\n",
       "    }\n",
       "\n",
       "    .dataframe thead th {\n",
       "        text-align: right;\n",
       "    }\n",
       "</style>\n",
       "<table border=\"1\" class=\"dataframe\">\n",
       "  <thead>\n",
       "    <tr style=\"text-align: right;\">\n",
       "      <th></th>\n",
       "      <th>GhoCode</th>\n",
       "      <th>GhoDisplay</th>\n",
       "      <th>PublishStateCode</th>\n",
       "      <th>PublishStateDisplay</th>\n",
       "      <th>YearCode</th>\n",
       "      <th>YearDisplay</th>\n",
       "      <th>RegionCode</th>\n",
       "      <th>RegionDisplay</th>\n",
       "      <th>WorldBankIncomeGroupGroupCode</th>\n",
       "      <th>WorldBankIncomeGroupDisplay</th>\n",
       "      <th>CountryCode</th>\n",
       "      <th>CountryDisplay</th>\n",
       "      <th>SexCode</th>\n",
       "      <th>SexDisplay</th>\n",
       "      <th>DisplayValue</th>\n",
       "      <th>Numeric</th>\n",
       "    </tr>\n",
       "  </thead>\n",
       "  <tbody>\n",
       "    <tr>\n",
       "      <th>0</th>\n",
       "      <td>WHOSIS_000001</td>\n",
       "      <td>Life expectancy at birth (years)</td>\n",
       "      <td>PUBLISHED</td>\n",
       "      <td>Published</td>\n",
       "      <td>2013</td>\n",
       "      <td>2013</td>\n",
       "      <td>EMR</td>\n",
       "      <td>Eastern Mediterranean</td>\n",
       "      <td>NaN</td>\n",
       "      <td>NaN</td>\n",
       "      <td>AFG</td>\n",
       "      <td>Afghanistan</td>\n",
       "      <td>BTSX</td>\n",
       "      <td>Both sexes</td>\n",
       "      <td>61</td>\n",
       "      <td>61.25205</td>\n",
       "    </tr>\n",
       "    <tr>\n",
       "      <th>1</th>\n",
       "      <td>WHOSIS_000001</td>\n",
       "      <td>Life expectancy at birth (years)</td>\n",
       "      <td>PUBLISHED</td>\n",
       "      <td>Published</td>\n",
       "      <td>2013</td>\n",
       "      <td>2013</td>\n",
       "      <td>EMR</td>\n",
       "      <td>Eastern Mediterranean</td>\n",
       "      <td>NaN</td>\n",
       "      <td>NaN</td>\n",
       "      <td>AFG</td>\n",
       "      <td>Afghanistan</td>\n",
       "      <td>FMLE</td>\n",
       "      <td>Female</td>\n",
       "      <td>62</td>\n",
       "      <td>61.97733</td>\n",
       "    </tr>\n",
       "    <tr>\n",
       "      <th>2</th>\n",
       "      <td>WHOSIS_000001</td>\n",
       "      <td>Life expectancy at birth (years)</td>\n",
       "      <td>PUBLISHED</td>\n",
       "      <td>Published</td>\n",
       "      <td>2013</td>\n",
       "      <td>2013</td>\n",
       "      <td>EMR</td>\n",
       "      <td>Eastern Mediterranean</td>\n",
       "      <td>NaN</td>\n",
       "      <td>NaN</td>\n",
       "      <td>AFG</td>\n",
       "      <td>Afghanistan</td>\n",
       "      <td>MLE</td>\n",
       "      <td>Male</td>\n",
       "      <td>61</td>\n",
       "      <td>60.51228</td>\n",
       "    </tr>\n",
       "  </tbody>\n",
       "</table>\n",
       "</div>"
      ],
      "text/plain": [
       "         GhoCode                        GhoDisplay PublishStateCode  \\\n",
       "0  WHOSIS_000001  Life expectancy at birth (years)        PUBLISHED   \n",
       "1  WHOSIS_000001  Life expectancy at birth (years)        PUBLISHED   \n",
       "2  WHOSIS_000001  Life expectancy at birth (years)        PUBLISHED   \n",
       "\n",
       "  PublishStateDisplay  YearCode  YearDisplay RegionCode  \\\n",
       "0           Published      2013         2013        EMR   \n",
       "1           Published      2013         2013        EMR   \n",
       "2           Published      2013         2013        EMR   \n",
       "\n",
       "           RegionDisplay WorldBankIncomeGroupGroupCode  \\\n",
       "0  Eastern Mediterranean                           NaN   \n",
       "1  Eastern Mediterranean                           NaN   \n",
       "2  Eastern Mediterranean                           NaN   \n",
       "\n",
       "  WorldBankIncomeGroupDisplay CountryCode CountryDisplay SexCode  SexDisplay  \\\n",
       "0                         NaN         AFG    Afghanistan    BTSX  Both sexes   \n",
       "1                         NaN         AFG    Afghanistan    FMLE      Female   \n",
       "2                         NaN         AFG    Afghanistan     MLE        Male   \n",
       "\n",
       "   DisplayValue   Numeric  \n",
       "0            61  61.25205  \n",
       "1            62  61.97733  \n",
       "2            61  60.51228  "
      ]
     },
     "execution_count": 438,
     "metadata": {},
     "output_type": "execute_result"
    }
   ],
   "source": [
    "le_2013.head(3)"
   ]
  },
  {
   "cell_type": "code",
   "execution_count": 439,
   "metadata": {},
   "outputs": [
    {
     "data": {
      "text/html": [
       "<div>\n",
       "<style scoped>\n",
       "    .dataframe tbody tr th:only-of-type {\n",
       "        vertical-align: middle;\n",
       "    }\n",
       "\n",
       "    .dataframe tbody tr th {\n",
       "        vertical-align: top;\n",
       "    }\n",
       "\n",
       "    .dataframe thead th {\n",
       "        text-align: right;\n",
       "    }\n",
       "</style>\n",
       "<table border=\"1\" class=\"dataframe\">\n",
       "  <thead>\n",
       "    <tr style=\"text-align: right;\">\n",
       "      <th></th>\n",
       "      <th>GhoCode</th>\n",
       "      <th>GhoDisplay</th>\n",
       "      <th>PublishStateCode</th>\n",
       "      <th>PublishStateDisplay</th>\n",
       "      <th>RegionCode</th>\n",
       "      <th>RegionDisplay</th>\n",
       "      <th>WorldBankIncomeGroupGroupCode</th>\n",
       "      <th>WorldBankIncomeGroupDisplay</th>\n",
       "      <th>CountryCode</th>\n",
       "      <th>CountryDisplay</th>\n",
       "      <th>SexCode</th>\n",
       "      <th>SexDisplay</th>\n",
       "    </tr>\n",
       "  </thead>\n",
       "  <tbody>\n",
       "    <tr>\n",
       "      <th>count</th>\n",
       "      <td>1746</td>\n",
       "      <td>1746</td>\n",
       "      <td>1746</td>\n",
       "      <td>1746</td>\n",
       "      <td>1746</td>\n",
       "      <td>1746</td>\n",
       "      <td>582</td>\n",
       "      <td>582</td>\n",
       "      <td>1746</td>\n",
       "      <td>1746</td>\n",
       "      <td>1746</td>\n",
       "      <td>1746</td>\n",
       "    </tr>\n",
       "    <tr>\n",
       "      <th>unique</th>\n",
       "      <td>3</td>\n",
       "      <td>3</td>\n",
       "      <td>1</td>\n",
       "      <td>1</td>\n",
       "      <td>6</td>\n",
       "      <td>6</td>\n",
       "      <td>4</td>\n",
       "      <td>4</td>\n",
       "      <td>194</td>\n",
       "      <td>194</td>\n",
       "      <td>3</td>\n",
       "      <td>3</td>\n",
       "    </tr>\n",
       "    <tr>\n",
       "      <th>top</th>\n",
       "      <td>WHOSIS_000002</td>\n",
       "      <td>Healthy life expectancy (HALE) at birth (years)</td>\n",
       "      <td>PUBLISHED</td>\n",
       "      <td>Published</td>\n",
       "      <td>EUR</td>\n",
       "      <td>Europe</td>\n",
       "      <td>WB_LMI</td>\n",
       "      <td>Lower_middle_income</td>\n",
       "      <td>PHL</td>\n",
       "      <td>Niger</td>\n",
       "      <td>FMLE</td>\n",
       "      <td>Male</td>\n",
       "    </tr>\n",
       "    <tr>\n",
       "      <th>freq</th>\n",
       "      <td>582</td>\n",
       "      <td>582</td>\n",
       "      <td>1746</td>\n",
       "      <td>1746</td>\n",
       "      <td>477</td>\n",
       "      <td>477</td>\n",
       "      <td>162</td>\n",
       "      <td>162</td>\n",
       "      <td>9</td>\n",
       "      <td>9</td>\n",
       "      <td>582</td>\n",
       "      <td>582</td>\n",
       "    </tr>\n",
       "  </tbody>\n",
       "</table>\n",
       "</div>"
      ],
      "text/plain": [
       "              GhoCode                                       GhoDisplay  \\\n",
       "count            1746                                             1746   \n",
       "unique              3                                                3   \n",
       "top     WHOSIS_000002  Healthy life expectancy (HALE) at birth (years)   \n",
       "freq              582                                              582   \n",
       "\n",
       "       PublishStateCode PublishStateDisplay RegionCode RegionDisplay  \\\n",
       "count              1746                1746       1746          1746   \n",
       "unique                1                   1          6             6   \n",
       "top           PUBLISHED           Published        EUR        Europe   \n",
       "freq               1746                1746        477           477   \n",
       "\n",
       "       WorldBankIncomeGroupGroupCode WorldBankIncomeGroupDisplay CountryCode  \\\n",
       "count                            582                         582        1746   \n",
       "unique                             4                           4         194   \n",
       "top                           WB_LMI         Lower_middle_income         PHL   \n",
       "freq                             162                         162           9   \n",
       "\n",
       "       CountryDisplay SexCode SexDisplay  \n",
       "count            1746    1746       1746  \n",
       "unique            194       3          3  \n",
       "top             Niger    FMLE       Male  \n",
       "freq                9     582        582  "
      ]
     },
     "execution_count": 439,
     "metadata": {},
     "output_type": "execute_result"
    }
   ],
   "source": [
    "le_2013.describe(include=[np.object]) "
   ]
  },
  {
   "cell_type": "markdown",
   "metadata": {},
   "source": [
    "Inspecting only the textual columns, we can see that there are 194 unique  countries and that the World Bank income group has 4 categories. It seems PublishStateCode and PublishStateDisplay carry no information."
   ]
  },
  {
   "cell_type": "code",
   "execution_count": 440,
   "metadata": {},
   "outputs": [
    {
     "data": {
      "text/plain": [
       "Lower_middle_income    1440\n",
       "High_income            1377\n",
       "Upper_middle_income    1215\n",
       "Low_income             1212\n",
       "Name: WorldBankIncomeGroupDisplay, dtype: int64"
      ]
     },
     "execution_count": 440,
     "metadata": {},
     "output_type": "execute_result"
    }
   ],
   "source": [
    "life_expectancy['WorldBankIncomeGroupDisplay'].value_counts()"
   ]
  },
  {
   "cell_type": "markdown",
   "metadata": {},
   "source": [
    "Also interesting that the majority of countries fall within the Lower middle income group and the lower- and the upper middle income groups have almost the same number of countries. Other than that the groups are roughly the same."
   ]
  },
  {
   "cell_type": "markdown",
   "metadata": {},
   "source": [
    "### 4. Merge drinks and lifetime data by country"
   ]
  },
  {
   "cell_type": "code",
   "execution_count": 441,
   "metadata": {},
   "outputs": [],
   "source": [
    "# merge le_2013 and drinks on country name\n",
    "le_drinks = le_2013.merge(drinks.rename(columns={'country':'CountryDisplay'}), how='inner', on='CountryDisplay')"
   ]
  },
  {
   "cell_type": "code",
   "execution_count": 442,
   "metadata": {},
   "outputs": [
    {
     "data": {
      "text/html": [
       "<div>\n",
       "<style scoped>\n",
       "    .dataframe tbody tr th:only-of-type {\n",
       "        vertical-align: middle;\n",
       "    }\n",
       "\n",
       "    .dataframe tbody tr th {\n",
       "        vertical-align: top;\n",
       "    }\n",
       "\n",
       "    .dataframe thead th {\n",
       "        text-align: right;\n",
       "    }\n",
       "</style>\n",
       "<table border=\"1\" class=\"dataframe\">\n",
       "  <thead>\n",
       "    <tr style=\"text-align: right;\">\n",
       "      <th></th>\n",
       "      <th>GhoCode</th>\n",
       "      <th>GhoDisplay</th>\n",
       "      <th>PublishStateCode</th>\n",
       "      <th>PublishStateDisplay</th>\n",
       "      <th>YearCode</th>\n",
       "      <th>YearDisplay</th>\n",
       "      <th>RegionCode</th>\n",
       "      <th>RegionDisplay</th>\n",
       "      <th>WorldBankIncomeGroupGroupCode</th>\n",
       "      <th>WorldBankIncomeGroupDisplay</th>\n",
       "      <th>CountryCode</th>\n",
       "      <th>CountryDisplay</th>\n",
       "      <th>SexCode</th>\n",
       "      <th>SexDisplay</th>\n",
       "      <th>DisplayValue</th>\n",
       "      <th>Numeric</th>\n",
       "      <th>beer_servings</th>\n",
       "      <th>spirit_servings</th>\n",
       "      <th>wine_servings</th>\n",
       "      <th>total_litres_of_pure_alcohol</th>\n",
       "    </tr>\n",
       "  </thead>\n",
       "  <tbody>\n",
       "    <tr>\n",
       "      <th>0</th>\n",
       "      <td>WHOSIS_000001</td>\n",
       "      <td>Life expectancy at birth (years)</td>\n",
       "      <td>PUBLISHED</td>\n",
       "      <td>Published</td>\n",
       "      <td>2013</td>\n",
       "      <td>2013</td>\n",
       "      <td>EMR</td>\n",
       "      <td>Eastern Mediterranean</td>\n",
       "      <td>NaN</td>\n",
       "      <td>NaN</td>\n",
       "      <td>AFG</td>\n",
       "      <td>Afghanistan</td>\n",
       "      <td>BTSX</td>\n",
       "      <td>Both sexes</td>\n",
       "      <td>61</td>\n",
       "      <td>61.25205</td>\n",
       "      <td>0.0</td>\n",
       "      <td>0.0</td>\n",
       "      <td>0.0</td>\n",
       "      <td>0.0</td>\n",
       "    </tr>\n",
       "    <tr>\n",
       "      <th>1</th>\n",
       "      <td>WHOSIS_000001</td>\n",
       "      <td>Life expectancy at birth (years)</td>\n",
       "      <td>PUBLISHED</td>\n",
       "      <td>Published</td>\n",
       "      <td>2013</td>\n",
       "      <td>2013</td>\n",
       "      <td>EMR</td>\n",
       "      <td>Eastern Mediterranean</td>\n",
       "      <td>NaN</td>\n",
       "      <td>NaN</td>\n",
       "      <td>AFG</td>\n",
       "      <td>Afghanistan</td>\n",
       "      <td>FMLE</td>\n",
       "      <td>Female</td>\n",
       "      <td>62</td>\n",
       "      <td>61.97733</td>\n",
       "      <td>0.0</td>\n",
       "      <td>0.0</td>\n",
       "      <td>0.0</td>\n",
       "      <td>0.0</td>\n",
       "    </tr>\n",
       "    <tr>\n",
       "      <th>2</th>\n",
       "      <td>WHOSIS_000001</td>\n",
       "      <td>Life expectancy at birth (years)</td>\n",
       "      <td>PUBLISHED</td>\n",
       "      <td>Published</td>\n",
       "      <td>2013</td>\n",
       "      <td>2013</td>\n",
       "      <td>EMR</td>\n",
       "      <td>Eastern Mediterranean</td>\n",
       "      <td>NaN</td>\n",
       "      <td>NaN</td>\n",
       "      <td>AFG</td>\n",
       "      <td>Afghanistan</td>\n",
       "      <td>MLE</td>\n",
       "      <td>Male</td>\n",
       "      <td>61</td>\n",
       "      <td>60.51228</td>\n",
       "      <td>0.0</td>\n",
       "      <td>0.0</td>\n",
       "      <td>0.0</td>\n",
       "      <td>0.0</td>\n",
       "    </tr>\n",
       "  </tbody>\n",
       "</table>\n",
       "</div>"
      ],
      "text/plain": [
       "         GhoCode                        GhoDisplay PublishStateCode  \\\n",
       "0  WHOSIS_000001  Life expectancy at birth (years)        PUBLISHED   \n",
       "1  WHOSIS_000001  Life expectancy at birth (years)        PUBLISHED   \n",
       "2  WHOSIS_000001  Life expectancy at birth (years)        PUBLISHED   \n",
       "\n",
       "  PublishStateDisplay  YearCode  YearDisplay RegionCode  \\\n",
       "0           Published      2013         2013        EMR   \n",
       "1           Published      2013         2013        EMR   \n",
       "2           Published      2013         2013        EMR   \n",
       "\n",
       "           RegionDisplay WorldBankIncomeGroupGroupCode  \\\n",
       "0  Eastern Mediterranean                           NaN   \n",
       "1  Eastern Mediterranean                           NaN   \n",
       "2  Eastern Mediterranean                           NaN   \n",
       "\n",
       "  WorldBankIncomeGroupDisplay CountryCode CountryDisplay SexCode  SexDisplay  \\\n",
       "0                         NaN         AFG    Afghanistan    BTSX  Both sexes   \n",
       "1                         NaN         AFG    Afghanistan    FMLE      Female   \n",
       "2                         NaN         AFG    Afghanistan     MLE        Male   \n",
       "\n",
       "   DisplayValue   Numeric  beer_servings  spirit_servings  wine_servings  \\\n",
       "0            61  61.25205            0.0              0.0            0.0   \n",
       "1            62  61.97733            0.0              0.0            0.0   \n",
       "2            61  60.51228            0.0              0.0            0.0   \n",
       "\n",
       "   total_litres_of_pure_alcohol  \n",
       "0                           0.0  \n",
       "1                           0.0  \n",
       "2                           0.0  "
      ]
     },
     "execution_count": 442,
     "metadata": {},
     "output_type": "execute_result"
    }
   ],
   "source": [
    "le_drinks.head(3)"
   ]
  },
  {
   "cell_type": "markdown",
   "metadata": {},
   "source": [
    "## Correlations"
   ]
  },
  {
   "cell_type": "markdown",
   "metadata": {},
   "source": [
    "### 5. Calculate correlation between expected lifetime and total liters of pure alcohol"
   ]
  },
  {
   "cell_type": "code",
   "execution_count": 443,
   "metadata": {},
   "outputs": [],
   "source": [
    "le_drinks_btsx = le_drinks[le_drinks['SexCode'] == 'BTSX']\n",
    "le_drinks_btsx = le_drinks_btsx[le_drinks_btsx['GhoCode'] == 'WHOSIS_000001']                     "
   ]
  },
  {
   "cell_type": "code",
   "execution_count": 444,
   "metadata": {},
   "outputs": [
    {
     "data": {
      "text/html": [
       "<div>\n",
       "<style scoped>\n",
       "    .dataframe tbody tr th:only-of-type {\n",
       "        vertical-align: middle;\n",
       "    }\n",
       "\n",
       "    .dataframe tbody tr th {\n",
       "        vertical-align: top;\n",
       "    }\n",
       "\n",
       "    .dataframe thead th {\n",
       "        text-align: right;\n",
       "    }\n",
       "</style>\n",
       "<table border=\"1\" class=\"dataframe\">\n",
       "  <thead>\n",
       "    <tr style=\"text-align: right;\">\n",
       "      <th></th>\n",
       "      <th>GhoCode</th>\n",
       "      <th>GhoDisplay</th>\n",
       "      <th>PublishStateCode</th>\n",
       "      <th>PublishStateDisplay</th>\n",
       "      <th>YearCode</th>\n",
       "      <th>YearDisplay</th>\n",
       "      <th>RegionCode</th>\n",
       "      <th>RegionDisplay</th>\n",
       "      <th>WorldBankIncomeGroupGroupCode</th>\n",
       "      <th>WorldBankIncomeGroupDisplay</th>\n",
       "      <th>CountryCode</th>\n",
       "      <th>CountryDisplay</th>\n",
       "      <th>SexCode</th>\n",
       "      <th>SexDisplay</th>\n",
       "      <th>DisplayValue</th>\n",
       "      <th>Numeric</th>\n",
       "      <th>beer_servings</th>\n",
       "      <th>spirit_servings</th>\n",
       "      <th>wine_servings</th>\n",
       "      <th>total_litres_of_pure_alcohol</th>\n",
       "    </tr>\n",
       "  </thead>\n",
       "  <tbody>\n",
       "    <tr>\n",
       "      <th>0</th>\n",
       "      <td>WHOSIS_000001</td>\n",
       "      <td>Life expectancy at birth (years)</td>\n",
       "      <td>PUBLISHED</td>\n",
       "      <td>Published</td>\n",
       "      <td>2013</td>\n",
       "      <td>2013</td>\n",
       "      <td>EMR</td>\n",
       "      <td>Eastern Mediterranean</td>\n",
       "      <td>NaN</td>\n",
       "      <td>NaN</td>\n",
       "      <td>AFG</td>\n",
       "      <td>Afghanistan</td>\n",
       "      <td>BTSX</td>\n",
       "      <td>Both sexes</td>\n",
       "      <td>61</td>\n",
       "      <td>61.25205</td>\n",
       "      <td>0.0</td>\n",
       "      <td>0.0</td>\n",
       "      <td>0.0</td>\n",
       "      <td>0.0000</td>\n",
       "    </tr>\n",
       "    <tr>\n",
       "      <th>9</th>\n",
       "      <td>WHOSIS_000001</td>\n",
       "      <td>Life expectancy at birth (years)</td>\n",
       "      <td>PUBLISHED</td>\n",
       "      <td>Published</td>\n",
       "      <td>2013</td>\n",
       "      <td>2013</td>\n",
       "      <td>EUR</td>\n",
       "      <td>Europe</td>\n",
       "      <td>NaN</td>\n",
       "      <td>NaN</td>\n",
       "      <td>ALB</td>\n",
       "      <td>Albania</td>\n",
       "      <td>BTSX</td>\n",
       "      <td>Both sexes</td>\n",
       "      <td>74</td>\n",
       "      <td>74.13000</td>\n",
       "      <td>89.0</td>\n",
       "      <td>132.0</td>\n",
       "      <td>54.0</td>\n",
       "      <td>4.8675</td>\n",
       "    </tr>\n",
       "    <tr>\n",
       "      <th>18</th>\n",
       "      <td>WHOSIS_000001</td>\n",
       "      <td>Life expectancy at birth (years)</td>\n",
       "      <td>PUBLISHED</td>\n",
       "      <td>Published</td>\n",
       "      <td>2013</td>\n",
       "      <td>2013</td>\n",
       "      <td>AFR</td>\n",
       "      <td>Africa</td>\n",
       "      <td>NaN</td>\n",
       "      <td>NaN</td>\n",
       "      <td>DZA</td>\n",
       "      <td>Algeria</td>\n",
       "      <td>BTSX</td>\n",
       "      <td>Both sexes</td>\n",
       "      <td>72</td>\n",
       "      <td>71.82955</td>\n",
       "      <td>25.0</td>\n",
       "      <td>0.0</td>\n",
       "      <td>14.0</td>\n",
       "      <td>0.6903</td>\n",
       "    </tr>\n",
       "  </tbody>\n",
       "</table>\n",
       "</div>"
      ],
      "text/plain": [
       "          GhoCode                        GhoDisplay PublishStateCode  \\\n",
       "0   WHOSIS_000001  Life expectancy at birth (years)        PUBLISHED   \n",
       "9   WHOSIS_000001  Life expectancy at birth (years)        PUBLISHED   \n",
       "18  WHOSIS_000001  Life expectancy at birth (years)        PUBLISHED   \n",
       "\n",
       "   PublishStateDisplay  YearCode  YearDisplay RegionCode  \\\n",
       "0            Published      2013         2013        EMR   \n",
       "9            Published      2013         2013        EUR   \n",
       "18           Published      2013         2013        AFR   \n",
       "\n",
       "            RegionDisplay WorldBankIncomeGroupGroupCode  \\\n",
       "0   Eastern Mediterranean                           NaN   \n",
       "9                  Europe                           NaN   \n",
       "18                 Africa                           NaN   \n",
       "\n",
       "   WorldBankIncomeGroupDisplay CountryCode CountryDisplay SexCode  SexDisplay  \\\n",
       "0                          NaN         AFG    Afghanistan    BTSX  Both sexes   \n",
       "9                          NaN         ALB        Albania    BTSX  Both sexes   \n",
       "18                         NaN         DZA        Algeria    BTSX  Both sexes   \n",
       "\n",
       "    DisplayValue   Numeric  beer_servings  spirit_servings  wine_servings  \\\n",
       "0             61  61.25205            0.0              0.0            0.0   \n",
       "9             74  74.13000           89.0            132.0           54.0   \n",
       "18            72  71.82955           25.0              0.0           14.0   \n",
       "\n",
       "    total_litres_of_pure_alcohol  \n",
       "0                         0.0000  \n",
       "9                         4.8675  \n",
       "18                        0.6903  "
      ]
     },
     "execution_count": 444,
     "metadata": {},
     "output_type": "execute_result"
    }
   ],
   "source": [
    "le_drinks_btsx.head(3)"
   ]
  },
  {
   "cell_type": "code",
   "execution_count": 445,
   "metadata": {},
   "outputs": [],
   "source": [
    "# reset index\n",
    "le_drinks_btsx = le_drinks_btsx.reset_index(drop=True)"
   ]
  },
  {
   "cell_type": "code",
   "execution_count": 446,
   "metadata": {},
   "outputs": [
    {
     "data": {
      "text/plain": [
       "GhoCode                            0\n",
       "GhoDisplay                         0\n",
       "PublishStateCode                   0\n",
       "PublishStateDisplay                0\n",
       "YearCode                           0\n",
       "YearDisplay                        0\n",
       "RegionCode                         0\n",
       "RegionDisplay                      0\n",
       "WorldBankIncomeGroupGroupCode    167\n",
       "WorldBankIncomeGroupDisplay      167\n",
       "CountryCode                        0\n",
       "CountryDisplay                     0\n",
       "SexCode                            0\n",
       "SexDisplay                         0\n",
       "DisplayValue                       0\n",
       "Numeric                            0\n",
       "beer_servings                      0\n",
       "spirit_servings                    1\n",
       "wine_servings                      1\n",
       "total_litres_of_pure_alcohol       2\n",
       "dtype: int64"
      ]
     },
     "execution_count": 446,
     "metadata": {},
     "output_type": "execute_result"
    }
   ],
   "source": [
    "le_drinks_btsx.isnull().sum()"
   ]
  },
  {
   "cell_type": "code",
   "execution_count": 447,
   "metadata": {},
   "outputs": [],
   "source": [
    "# need to drop those observations where total liter is null\n",
    "le_drinks_btsx = le_drinks_btsx.dropna(subset=['total_litres_of_pure_alcohol'])"
   ]
  },
  {
   "cell_type": "code",
   "execution_count": 448,
   "metadata": {},
   "outputs": [],
   "source": [
    "from scipy.stats import pearsonr"
   ]
  },
  {
   "cell_type": "code",
   "execution_count": 449,
   "metadata": {},
   "outputs": [],
   "source": [
    "# Convert dataframe into series\n",
    "list1 = le_drinks_btsx['Numeric']\n",
    "list2 = le_drinks_btsx['total_litres_of_pure_alcohol']"
   ]
  },
  {
   "cell_type": "code",
   "execution_count": 450,
   "metadata": {},
   "outputs": [
    {
     "name": "stdout",
     "output_type": "stream",
     "text": [
      "Pearsons correlation is: 0.522\n"
     ]
    }
   ],
   "source": [
    "# Apply the pearsonr()\n",
    "corr, _ = pearsonr(list1, list2)\n",
    "print('Pearsons correlation is: %.3f' % corr)"
   ]
  },
  {
   "cell_type": "markdown",
   "metadata": {},
   "source": [
    "The Pearson correlation is 0.52, which means there is a positive moderate correlation between life expectancy in a country and total liters of pure alcohol consumed. Hoverever, there is a chance that there are other factors that influence life expencancy."
   ]
  },
  {
   "cell_type": "markdown",
   "metadata": {},
   "source": [
    "### 6. Read and prepare CountriesOfTheWorld.xlsx"
   ]
  },
  {
   "cell_type": "code",
   "execution_count": 451,
   "metadata": {},
   "outputs": [],
   "source": [
    "countries = pd.read_excel (r'C:\\Users\\ilike\\Documents\\CEU\\Courses\\2021_Spring\\Mastering the process of data science\\Assignment\\CountriesOfTheWorld.xls', \n",
    "                           sheet_name = 'Sheet1', skiprows = 2, header = 1 )\n"
   ]
  },
  {
   "cell_type": "code",
   "execution_count": 452,
   "metadata": {},
   "outputs": [
    {
     "data": {
      "text/html": [
       "<div>\n",
       "<style scoped>\n",
       "    .dataframe tbody tr th:only-of-type {\n",
       "        vertical-align: middle;\n",
       "    }\n",
       "\n",
       "    .dataframe tbody tr th {\n",
       "        vertical-align: top;\n",
       "    }\n",
       "\n",
       "    .dataframe thead th {\n",
       "        text-align: right;\n",
       "    }\n",
       "</style>\n",
       "<table border=\"1\" class=\"dataframe\">\n",
       "  <thead>\n",
       "    <tr style=\"text-align: right;\">\n",
       "      <th></th>\n",
       "      <th>Country</th>\n",
       "      <th>Region</th>\n",
       "      <th>Population</th>\n",
       "      <th>Area</th>\n",
       "      <th>Pop. Density</th>\n",
       "      <th>Coastline</th>\n",
       "      <th>Net migration</th>\n",
       "      <th>Infant mortality</th>\n",
       "      <th>GDP</th>\n",
       "      <th>Literacy</th>\n",
       "      <th>Phones</th>\n",
       "      <th>Arable</th>\n",
       "      <th>Crops</th>\n",
       "      <th>Other</th>\n",
       "      <th>Birthrate</th>\n",
       "      <th>Deathrate</th>\n",
       "    </tr>\n",
       "  </thead>\n",
       "  <tbody>\n",
       "    <tr>\n",
       "      <th>0</th>\n",
       "      <td>NaN</td>\n",
       "      <td>NaN</td>\n",
       "      <td>NaN</td>\n",
       "      <td>sq. mi.</td>\n",
       "      <td>per sq. mi.</td>\n",
       "      <td>coast/area ratio</td>\n",
       "      <td>NaN</td>\n",
       "      <td>per 1000 births</td>\n",
       "      <td>$ per capita</td>\n",
       "      <td>%</td>\n",
       "      <td>per 1000</td>\n",
       "      <td>%</td>\n",
       "      <td>%</td>\n",
       "      <td>%</td>\n",
       "      <td>NaN</td>\n",
       "      <td>NaN</td>\n",
       "    </tr>\n",
       "    <tr>\n",
       "      <th>1</th>\n",
       "      <td>Afghanistan</td>\n",
       "      <td>ASIA (EX. NEAR EAST)</td>\n",
       "      <td>31056997.0</td>\n",
       "      <td>647500</td>\n",
       "      <td>47.96</td>\n",
       "      <td>0</td>\n",
       "      <td>23.06</td>\n",
       "      <td>163.07</td>\n",
       "      <td>700</td>\n",
       "      <td>36</td>\n",
       "      <td>3.22</td>\n",
       "      <td>12.13</td>\n",
       "      <td>0.22</td>\n",
       "      <td>87.65</td>\n",
       "      <td>46.60</td>\n",
       "      <td>20.34</td>\n",
       "    </tr>\n",
       "    <tr>\n",
       "      <th>2</th>\n",
       "      <td>Albania</td>\n",
       "      <td>EASTERN EUROPE</td>\n",
       "      <td>3581655.0</td>\n",
       "      <td>28748</td>\n",
       "      <td>124.59</td>\n",
       "      <td>1.26</td>\n",
       "      <td>-4.93</td>\n",
       "      <td>21.52</td>\n",
       "      <td>4500</td>\n",
       "      <td>86.5</td>\n",
       "      <td>71.2</td>\n",
       "      <td>21.09</td>\n",
       "      <td>4.42</td>\n",
       "      <td>74.49</td>\n",
       "      <td>15.11</td>\n",
       "      <td>5.22</td>\n",
       "    </tr>\n",
       "    <tr>\n",
       "      <th>3</th>\n",
       "      <td>Algeria</td>\n",
       "      <td>NORTHERN AFRICA</td>\n",
       "      <td>32930091.0</td>\n",
       "      <td>2381740</td>\n",
       "      <td>13.83</td>\n",
       "      <td>0.04</td>\n",
       "      <td>-0.39</td>\n",
       "      <td>31</td>\n",
       "      <td>6000</td>\n",
       "      <td>70</td>\n",
       "      <td>78.1</td>\n",
       "      <td>3.22</td>\n",
       "      <td>0.25</td>\n",
       "      <td>96.53</td>\n",
       "      <td>17.14</td>\n",
       "      <td>4.61</td>\n",
       "    </tr>\n",
       "    <tr>\n",
       "      <th>4</th>\n",
       "      <td>American Samoa</td>\n",
       "      <td>OCEANIA</td>\n",
       "      <td>57794.0</td>\n",
       "      <td>199</td>\n",
       "      <td>290.42</td>\n",
       "      <td>58.29</td>\n",
       "      <td>-20.71</td>\n",
       "      <td>9.27</td>\n",
       "      <td>8000</td>\n",
       "      <td>97</td>\n",
       "      <td>259.54</td>\n",
       "      <td>10</td>\n",
       "      <td>15</td>\n",
       "      <td>75</td>\n",
       "      <td>22.46</td>\n",
       "      <td>3.27</td>\n",
       "    </tr>\n",
       "  </tbody>\n",
       "</table>\n",
       "</div>"
      ],
      "text/plain": [
       "           Country                               Region  Population     Area  \\\n",
       "0              NaN                                  NaN         NaN  sq. mi.   \n",
       "1     Afghanistan         ASIA (EX. NEAR EAST)           31056997.0   647500   \n",
       "2         Albania   EASTERN EUROPE                        3581655.0    28748   \n",
       "3         Algeria   NORTHERN AFRICA                      32930091.0  2381740   \n",
       "4  American Samoa   OCEANIA                                 57794.0      199   \n",
       "\n",
       "  Pop. Density         Coastline  Net migration Infant mortality  \\\n",
       "0  per sq. mi.  coast/area ratio            NaN  per 1000 births   \n",
       "1        47.96                 0          23.06           163.07   \n",
       "2       124.59              1.26          -4.93            21.52   \n",
       "3        13.83              0.04          -0.39               31   \n",
       "4       290.42             58.29         -20.71             9.27   \n",
       "\n",
       "            GDP Literacy    Phones Arable Crops  Other  Birthrate  Deathrate  \n",
       "0  $ per capita        %  per 1000      %     %      %        NaN        NaN  \n",
       "1           700       36      3.22  12.13  0.22  87.65      46.60      20.34  \n",
       "2          4500     86.5      71.2  21.09  4.42  74.49      15.11       5.22  \n",
       "3          6000       70      78.1   3.22  0.25  96.53      17.14       4.61  \n",
       "4          8000       97    259.54     10    15     75      22.46       3.27  "
      ]
     },
     "execution_count": 452,
     "metadata": {},
     "output_type": "execute_result"
    }
   ],
   "source": [
    "countries.head(5)"
   ]
  },
  {
   "cell_type": "code",
   "execution_count": 453,
   "metadata": {},
   "outputs": [],
   "source": [
    "# drop first row\n",
    "countries = countries[1:]"
   ]
  },
  {
   "cell_type": "code",
   "execution_count": 454,
   "metadata": {},
   "outputs": [],
   "source": [
    "#reset index\n",
    "countries = countries.reset_index(drop=True)"
   ]
  },
  {
   "cell_type": "code",
   "execution_count": 455,
   "metadata": {},
   "outputs": [
    {
     "data": {
      "text/html": [
       "<div>\n",
       "<style scoped>\n",
       "    .dataframe tbody tr th:only-of-type {\n",
       "        vertical-align: middle;\n",
       "    }\n",
       "\n",
       "    .dataframe tbody tr th {\n",
       "        vertical-align: top;\n",
       "    }\n",
       "\n",
       "    .dataframe thead th {\n",
       "        text-align: right;\n",
       "    }\n",
       "</style>\n",
       "<table border=\"1\" class=\"dataframe\">\n",
       "  <thead>\n",
       "    <tr style=\"text-align: right;\">\n",
       "      <th></th>\n",
       "      <th>Country</th>\n",
       "      <th>Region</th>\n",
       "      <th>Population</th>\n",
       "      <th>Area</th>\n",
       "      <th>Pop. Density</th>\n",
       "      <th>Coastline</th>\n",
       "      <th>Net migration</th>\n",
       "      <th>Infant mortality</th>\n",
       "      <th>GDP</th>\n",
       "      <th>Literacy</th>\n",
       "      <th>Phones</th>\n",
       "      <th>Arable</th>\n",
       "      <th>Crops</th>\n",
       "      <th>Other</th>\n",
       "      <th>Birthrate</th>\n",
       "      <th>Deathrate</th>\n",
       "    </tr>\n",
       "  </thead>\n",
       "  <tbody>\n",
       "    <tr>\n",
       "      <th>0</th>\n",
       "      <td>Afghanistan</td>\n",
       "      <td>ASIA (EX. NEAR EAST)</td>\n",
       "      <td>31056997.0</td>\n",
       "      <td>647500</td>\n",
       "      <td>47.96</td>\n",
       "      <td>0</td>\n",
       "      <td>23.06</td>\n",
       "      <td>163.07</td>\n",
       "      <td>700</td>\n",
       "      <td>36</td>\n",
       "      <td>3.22</td>\n",
       "      <td>12.13</td>\n",
       "      <td>0.22</td>\n",
       "      <td>87.65</td>\n",
       "      <td>46.60</td>\n",
       "      <td>20.34</td>\n",
       "    </tr>\n",
       "    <tr>\n",
       "      <th>1</th>\n",
       "      <td>Albania</td>\n",
       "      <td>EASTERN EUROPE</td>\n",
       "      <td>3581655.0</td>\n",
       "      <td>28748</td>\n",
       "      <td>124.59</td>\n",
       "      <td>1.26</td>\n",
       "      <td>-4.93</td>\n",
       "      <td>21.52</td>\n",
       "      <td>4500</td>\n",
       "      <td>86.5</td>\n",
       "      <td>71.2</td>\n",
       "      <td>21.09</td>\n",
       "      <td>4.42</td>\n",
       "      <td>74.49</td>\n",
       "      <td>15.11</td>\n",
       "      <td>5.22</td>\n",
       "    </tr>\n",
       "    <tr>\n",
       "      <th>2</th>\n",
       "      <td>Algeria</td>\n",
       "      <td>NORTHERN AFRICA</td>\n",
       "      <td>32930091.0</td>\n",
       "      <td>2381740</td>\n",
       "      <td>13.83</td>\n",
       "      <td>0.04</td>\n",
       "      <td>-0.39</td>\n",
       "      <td>31</td>\n",
       "      <td>6000</td>\n",
       "      <td>70</td>\n",
       "      <td>78.1</td>\n",
       "      <td>3.22</td>\n",
       "      <td>0.25</td>\n",
       "      <td>96.53</td>\n",
       "      <td>17.14</td>\n",
       "      <td>4.61</td>\n",
       "    </tr>\n",
       "  </tbody>\n",
       "</table>\n",
       "</div>"
      ],
      "text/plain": [
       "        Country                               Region  Population     Area  \\\n",
       "0  Afghanistan         ASIA (EX. NEAR EAST)           31056997.0   647500   \n",
       "1      Albania   EASTERN EUROPE                        3581655.0    28748   \n",
       "2      Algeria   NORTHERN AFRICA                      32930091.0  2381740   \n",
       "\n",
       "  Pop. Density Coastline  Net migration Infant mortality   GDP Literacy  \\\n",
       "0        47.96         0          23.06           163.07   700       36   \n",
       "1       124.59      1.26          -4.93            21.52  4500     86.5   \n",
       "2        13.83      0.04          -0.39               31  6000       70   \n",
       "\n",
       "  Phones Arable Crops  Other  Birthrate  Deathrate  \n",
       "0   3.22  12.13  0.22  87.65      46.60      20.34  \n",
       "1   71.2  21.09  4.42  74.49      15.11       5.22  \n",
       "2   78.1   3.22  0.25  96.53      17.14       4.61  "
      ]
     },
     "execution_count": 455,
     "metadata": {},
     "output_type": "execute_result"
    }
   ],
   "source": [
    "countries.head(3)"
   ]
  },
  {
   "cell_type": "code",
   "execution_count": 456,
   "metadata": {},
   "outputs": [
    {
     "name": "stdout",
     "output_type": "stream",
     "text": [
      "<class 'pandas.core.frame.DataFrame'>\n",
      "RangeIndex: 227 entries, 0 to 226\n",
      "Data columns (total 16 columns):\n",
      " #   Column            Non-Null Count  Dtype  \n",
      "---  ------            --------------  -----  \n",
      " 0   Country           227 non-null    object \n",
      " 1   Region            227 non-null    object \n",
      " 2   Population        227 non-null    float64\n",
      " 3   Area              227 non-null    object \n",
      " 4   Pop. Density      227 non-null    object \n",
      " 5   Coastline         227 non-null    object \n",
      " 6   Net migration     224 non-null    float64\n",
      " 7   Infant mortality  224 non-null    object \n",
      " 8   GDP               226 non-null    object \n",
      " 9   Literacy          209 non-null    object \n",
      " 10  Phones            223 non-null    object \n",
      " 11  Arable            225 non-null    object \n",
      " 12  Crops             225 non-null    object \n",
      " 13  Other             225 non-null    object \n",
      " 14  Birthrate         224 non-null    float64\n",
      " 15  Deathrate         223 non-null    float64\n",
      "dtypes: float64(4), object(12)\n",
      "memory usage: 28.5+ KB\n"
     ]
    }
   ],
   "source": [
    "countries.info()"
   ]
  },
  {
   "cell_type": "markdown",
   "metadata": {},
   "source": [
    "Some columns doesn't seem to have the right data type. All objects need to be transformed into floats, more over there are missing values in columns other than the first 6 columns."
   ]
  },
  {
   "cell_type": "code",
   "execution_count": 457,
   "metadata": {},
   "outputs": [],
   "source": [
    "countries = countries.astype({'Area': 'float64', 'Pop. Density': 'float64', 'Coastline': 'float64', 'Infant mortality': 'float64', 'GDP': 'float64', 'Literacy': 'float64', 'Phones': 'float64', 'Arable': 'float64', 'Crops': 'float64', 'Other': 'float64'})"
   ]
  },
  {
   "cell_type": "code",
   "execution_count": 458,
   "metadata": {},
   "outputs": [
    {
     "data": {
      "text/plain": [
       "Country              object\n",
       "Region               object\n",
       "Population          float64\n",
       "Area                float64\n",
       "Pop. Density        float64\n",
       "Coastline           float64\n",
       "Net migration       float64\n",
       "Infant mortality    float64\n",
       "GDP                 float64\n",
       "Literacy            float64\n",
       "Phones              float64\n",
       "Arable              float64\n",
       "Crops               float64\n",
       "Other               float64\n",
       "Birthrate           float64\n",
       "Deathrate           float64\n",
       "dtype: object"
      ]
     },
     "execution_count": 458,
     "metadata": {},
     "output_type": "execute_result"
    }
   ],
   "source": [
    "countries.dtypes"
   ]
  },
  {
   "cell_type": "code",
   "execution_count": 459,
   "metadata": {},
   "outputs": [
    {
     "data": {
      "text/plain": [
       "0"
      ]
     },
     "execution_count": 459,
     "metadata": {},
     "output_type": "execute_result"
    }
   ],
   "source": [
    "countries.duplicated().sum()"
   ]
  },
  {
   "cell_type": "code",
   "execution_count": 460,
   "metadata": {},
   "outputs": [
    {
     "data": {
      "text/plain": [
       "Country              0\n",
       "Region               0\n",
       "Population           0\n",
       "Area                 0\n",
       "Pop. Density         0\n",
       "Coastline            0\n",
       "Net migration        3\n",
       "Infant mortality     3\n",
       "GDP                  1\n",
       "Literacy            18\n",
       "Phones               4\n",
       "Arable               2\n",
       "Crops                2\n",
       "Other                2\n",
       "Birthrate            3\n",
       "Deathrate            4\n",
       "dtype: int64"
      ]
     },
     "execution_count": 460,
     "metadata": {},
     "output_type": "execute_result"
    }
   ],
   "source": [
    "countries.isnull().sum()"
   ]
  },
  {
   "cell_type": "markdown",
   "metadata": {},
   "source": [
    "There are several missing values, but not that much. I intend not to drop those rows since every country appears only once in the dataset, rather I replace with the mean of each column."
   ]
  },
  {
   "cell_type": "code",
   "execution_count": 461,
   "metadata": {},
   "outputs": [
    {
     "data": {
      "text/plain": [
       "Population          2.874028e+07\n",
       "Area                5.982270e+05\n",
       "Pop. Density        3.790425e+02\n",
       "Coastline           2.116533e+01\n",
       "Net migration       3.812500e-02\n",
       "Infant mortality    3.550696e+01\n",
       "GDP                 9.689823e+03\n",
       "Literacy            8.283828e+01\n",
       "Phones              2.360577e+02\n",
       "Arable              1.379711e+01\n",
       "Crops               4.564222e+00\n",
       "Other               8.163831e+01\n",
       "Birthrate           2.211473e+01\n",
       "Deathrate           9.241345e+00\n",
       "dtype: float64"
      ]
     },
     "execution_count": 461,
     "metadata": {},
     "output_type": "execute_result"
    }
   ],
   "source": [
    "countries.mean()"
   ]
  },
  {
   "cell_type": "code",
   "execution_count": 462,
   "metadata": {},
   "outputs": [],
   "source": [
    "# impute the column means for the missing values\n",
    "countries = countries.fillna(countries.mean())"
   ]
  },
  {
   "cell_type": "code",
   "execution_count": 463,
   "metadata": {},
   "outputs": [
    {
     "data": {
      "text/html": [
       "<div>\n",
       "<style scoped>\n",
       "    .dataframe tbody tr th:only-of-type {\n",
       "        vertical-align: middle;\n",
       "    }\n",
       "\n",
       "    .dataframe tbody tr th {\n",
       "        vertical-align: top;\n",
       "    }\n",
       "\n",
       "    .dataframe thead th {\n",
       "        text-align: right;\n",
       "    }\n",
       "</style>\n",
       "<table border=\"1\" class=\"dataframe\">\n",
       "  <thead>\n",
       "    <tr style=\"text-align: right;\">\n",
       "      <th></th>\n",
       "      <th>Population</th>\n",
       "      <th>Area</th>\n",
       "      <th>Pop. Density</th>\n",
       "      <th>Coastline</th>\n",
       "      <th>Net migration</th>\n",
       "      <th>Infant mortality</th>\n",
       "      <th>GDP</th>\n",
       "      <th>Literacy</th>\n",
       "      <th>Phones</th>\n",
       "      <th>Arable</th>\n",
       "      <th>Crops</th>\n",
       "      <th>Other</th>\n",
       "      <th>Birthrate</th>\n",
       "      <th>Deathrate</th>\n",
       "    </tr>\n",
       "  </thead>\n",
       "  <tbody>\n",
       "    <tr>\n",
       "      <th>count</th>\n",
       "      <td>2.270000e+02</td>\n",
       "      <td>2.270000e+02</td>\n",
       "      <td>227.000000</td>\n",
       "      <td>227.000000</td>\n",
       "      <td>227.000000</td>\n",
       "      <td>227.000000</td>\n",
       "      <td>227.000000</td>\n",
       "      <td>227.000000</td>\n",
       "      <td>227.000000</td>\n",
       "      <td>227.000000</td>\n",
       "      <td>227.000000</td>\n",
       "      <td>227.000000</td>\n",
       "      <td>227.000000</td>\n",
       "      <td>227.000000</td>\n",
       "    </tr>\n",
       "    <tr>\n",
       "      <th>mean</th>\n",
       "      <td>2.874028e+07</td>\n",
       "      <td>5.982270e+05</td>\n",
       "      <td>379.042511</td>\n",
       "      <td>21.165330</td>\n",
       "      <td>0.038125</td>\n",
       "      <td>35.506964</td>\n",
       "      <td>9689.823009</td>\n",
       "      <td>82.838278</td>\n",
       "      <td>236.057668</td>\n",
       "      <td>13.797111</td>\n",
       "      <td>4.564222</td>\n",
       "      <td>81.638311</td>\n",
       "      <td>22.114732</td>\n",
       "      <td>9.241345</td>\n",
       "    </tr>\n",
       "    <tr>\n",
       "      <th>std</th>\n",
       "      <td>1.178913e+08</td>\n",
       "      <td>1.790282e+06</td>\n",
       "      <td>1660.187541</td>\n",
       "      <td>72.286863</td>\n",
       "      <td>4.856710</td>\n",
       "      <td>35.154225</td>\n",
       "      <td>10026.881258</td>\n",
       "      <td>18.920483</td>\n",
       "      <td>225.965455</td>\n",
       "      <td>12.982573</td>\n",
       "      <td>8.324390</td>\n",
       "      <td>16.069256</td>\n",
       "      <td>11.102286</td>\n",
       "      <td>4.945670</td>\n",
       "    </tr>\n",
       "    <tr>\n",
       "      <th>min</th>\n",
       "      <td>7.026000e+03</td>\n",
       "      <td>2.000000e+00</td>\n",
       "      <td>0.030000</td>\n",
       "      <td>0.000000</td>\n",
       "      <td>-20.990000</td>\n",
       "      <td>2.290000</td>\n",
       "      <td>500.000000</td>\n",
       "      <td>17.600000</td>\n",
       "      <td>0.170000</td>\n",
       "      <td>0.000000</td>\n",
       "      <td>0.000000</td>\n",
       "      <td>33.330000</td>\n",
       "      <td>7.290000</td>\n",
       "      <td>2.290000</td>\n",
       "    </tr>\n",
       "    <tr>\n",
       "      <th>25%</th>\n",
       "      <td>4.376240e+05</td>\n",
       "      <td>4.647500e+03</td>\n",
       "      <td>29.155000</td>\n",
       "      <td>0.100000</td>\n",
       "      <td>-0.905000</td>\n",
       "      <td>8.215000</td>\n",
       "      <td>1900.000000</td>\n",
       "      <td>76.400000</td>\n",
       "      <td>38.515000</td>\n",
       "      <td>3.380000</td>\n",
       "      <td>0.190000</td>\n",
       "      <td>71.985000</td>\n",
       "      <td>12.725000</td>\n",
       "      <td>5.975000</td>\n",
       "    </tr>\n",
       "    <tr>\n",
       "      <th>50%</th>\n",
       "      <td>4.786994e+06</td>\n",
       "      <td>8.660000e+04</td>\n",
       "      <td>78.770000</td>\n",
       "      <td>0.730000</td>\n",
       "      <td>0.000000</td>\n",
       "      <td>21.050000</td>\n",
       "      <td>5600.000000</td>\n",
       "      <td>90.300000</td>\n",
       "      <td>181.590000</td>\n",
       "      <td>10.530000</td>\n",
       "      <td>1.080000</td>\n",
       "      <td>85.380000</td>\n",
       "      <td>18.900000</td>\n",
       "      <td>8.170000</td>\n",
       "    </tr>\n",
       "    <tr>\n",
       "      <th>75%</th>\n",
       "      <td>1.749777e+07</td>\n",
       "      <td>4.418110e+05</td>\n",
       "      <td>190.110000</td>\n",
       "      <td>10.345000</td>\n",
       "      <td>0.980000</td>\n",
       "      <td>55.335000</td>\n",
       "      <td>15700.000000</td>\n",
       "      <td>97.800000</td>\n",
       "      <td>382.895000</td>\n",
       "      <td>20.000000</td>\n",
       "      <td>4.557111</td>\n",
       "      <td>95.230000</td>\n",
       "      <td>29.770000</td>\n",
       "      <td>10.580000</td>\n",
       "    </tr>\n",
       "    <tr>\n",
       "      <th>max</th>\n",
       "      <td>1.313974e+09</td>\n",
       "      <td>1.707520e+07</td>\n",
       "      <td>16271.500000</td>\n",
       "      <td>870.660000</td>\n",
       "      <td>23.060000</td>\n",
       "      <td>191.190000</td>\n",
       "      <td>55100.000000</td>\n",
       "      <td>100.000000</td>\n",
       "      <td>1035.550000</td>\n",
       "      <td>62.110000</td>\n",
       "      <td>50.680000</td>\n",
       "      <td>100.000000</td>\n",
       "      <td>50.730000</td>\n",
       "      <td>29.740000</td>\n",
       "    </tr>\n",
       "  </tbody>\n",
       "</table>\n",
       "</div>"
      ],
      "text/plain": [
       "         Population          Area  Pop. Density   Coastline  Net migration  \\\n",
       "count  2.270000e+02  2.270000e+02    227.000000  227.000000     227.000000   \n",
       "mean   2.874028e+07  5.982270e+05    379.042511   21.165330       0.038125   \n",
       "std    1.178913e+08  1.790282e+06   1660.187541   72.286863       4.856710   \n",
       "min    7.026000e+03  2.000000e+00      0.030000    0.000000     -20.990000   \n",
       "25%    4.376240e+05  4.647500e+03     29.155000    0.100000      -0.905000   \n",
       "50%    4.786994e+06  8.660000e+04     78.770000    0.730000       0.000000   \n",
       "75%    1.749777e+07  4.418110e+05    190.110000   10.345000       0.980000   \n",
       "max    1.313974e+09  1.707520e+07  16271.500000  870.660000      23.060000   \n",
       "\n",
       "       Infant mortality           GDP    Literacy       Phones      Arable  \\\n",
       "count        227.000000    227.000000  227.000000   227.000000  227.000000   \n",
       "mean          35.506964   9689.823009   82.838278   236.057668   13.797111   \n",
       "std           35.154225  10026.881258   18.920483   225.965455   12.982573   \n",
       "min            2.290000    500.000000   17.600000     0.170000    0.000000   \n",
       "25%            8.215000   1900.000000   76.400000    38.515000    3.380000   \n",
       "50%           21.050000   5600.000000   90.300000   181.590000   10.530000   \n",
       "75%           55.335000  15700.000000   97.800000   382.895000   20.000000   \n",
       "max          191.190000  55100.000000  100.000000  1035.550000   62.110000   \n",
       "\n",
       "            Crops       Other   Birthrate   Deathrate  \n",
       "count  227.000000  227.000000  227.000000  227.000000  \n",
       "mean     4.564222   81.638311   22.114732    9.241345  \n",
       "std      8.324390   16.069256   11.102286    4.945670  \n",
       "min      0.000000   33.330000    7.290000    2.290000  \n",
       "25%      0.190000   71.985000   12.725000    5.975000  \n",
       "50%      1.080000   85.380000   18.900000    8.170000  \n",
       "75%      4.557111   95.230000   29.770000   10.580000  \n",
       "max     50.680000  100.000000   50.730000   29.740000  "
      ]
     },
     "execution_count": 463,
     "metadata": {},
     "output_type": "execute_result"
    }
   ],
   "source": [
    "countries.describe()"
   ]
  },
  {
   "cell_type": "markdown",
   "metadata": {},
   "source": [
    "Let's check few variables:"
   ]
  },
  {
   "cell_type": "code",
   "execution_count": 464,
   "metadata": {},
   "outputs": [
    {
     "data": {
      "text/plain": [
       "<seaborn.axisgrid.FacetGrid at 0x26a340488c8>"
      ]
     },
     "execution_count": 464,
     "metadata": {},
     "output_type": "execute_result"
    },
    {
     "data": {
      "image/png": "[encoded data removed]",
      "text/plain": [
       "<Figure size 360x360 with 1 Axes>"
      ]
     },
     "metadata": {},
     "output_type": "display_data"
    }
   ],
   "source": [
    "sns.displot(countries, x=\"Pop. Density\", binwidth=25)"
   ]
  },
  {
   "cell_type": "markdown",
   "metadata": {},
   "source": [
    "From the histogram we can see there are extreme values for population density, which are above 15000 per sq. mi., let's find these:"
   ]
  },
  {
   "cell_type": "code",
   "execution_count": 465,
   "metadata": {},
   "outputs": [
    {
     "data": {
      "text/html": [
       "<div>\n",
       "<style scoped>\n",
       "    .dataframe tbody tr th:only-of-type {\n",
       "        vertical-align: middle;\n",
       "    }\n",
       "\n",
       "    .dataframe tbody tr th {\n",
       "        vertical-align: top;\n",
       "    }\n",
       "\n",
       "    .dataframe thead th {\n",
       "        text-align: right;\n",
       "    }\n",
       "</style>\n",
       "<table border=\"1\" class=\"dataframe\">\n",
       "  <thead>\n",
       "    <tr style=\"text-align: right;\">\n",
       "      <th></th>\n",
       "      <th>Country</th>\n",
       "      <th>Region</th>\n",
       "      <th>Population</th>\n",
       "      <th>Area</th>\n",
       "      <th>Pop. Density</th>\n",
       "      <th>Coastline</th>\n",
       "      <th>Net migration</th>\n",
       "      <th>Infant mortality</th>\n",
       "      <th>GDP</th>\n",
       "      <th>Literacy</th>\n",
       "      <th>Phones</th>\n",
       "      <th>Arable</th>\n",
       "      <th>Crops</th>\n",
       "      <th>Other</th>\n",
       "      <th>Birthrate</th>\n",
       "      <th>Deathrate</th>\n",
       "    </tr>\n",
       "  </thead>\n",
       "  <tbody>\n",
       "    <tr>\n",
       "      <th>138</th>\n",
       "      <td>Monaco</td>\n",
       "      <td>WESTERN EUROPE</td>\n",
       "      <td>32543.0</td>\n",
       "      <td>2.0</td>\n",
       "      <td>16271.50</td>\n",
       "      <td>205.00</td>\n",
       "      <td>7.75</td>\n",
       "      <td>5.43</td>\n",
       "      <td>27000.0</td>\n",
       "      <td>99.0</td>\n",
       "      <td>1035.55</td>\n",
       "      <td>0.0</td>\n",
       "      <td>0.0</td>\n",
       "      <td>100.0</td>\n",
       "      <td>9.19</td>\n",
       "      <td>12.91</td>\n",
       "    </tr>\n",
       "    <tr>\n",
       "      <th>122</th>\n",
       "      <td>Macau</td>\n",
       "      <td>ASIA (EX. NEAR EAST)</td>\n",
       "      <td>453125.0</td>\n",
       "      <td>28.0</td>\n",
       "      <td>16183.04</td>\n",
       "      <td>146.43</td>\n",
       "      <td>4.86</td>\n",
       "      <td>4.39</td>\n",
       "      <td>19400.0</td>\n",
       "      <td>94.5</td>\n",
       "      <td>384.88</td>\n",
       "      <td>0.0</td>\n",
       "      <td>0.0</td>\n",
       "      <td>100.0</td>\n",
       "      <td>8.48</td>\n",
       "      <td>4.47</td>\n",
       "    </tr>\n",
       "  </tbody>\n",
       "</table>\n",
       "</div>"
      ],
      "text/plain": [
       "     Country                               Region  Population  Area  \\\n",
       "138  Monaco   WESTERN EUROPE                          32543.0   2.0   \n",
       "122   Macau         ASIA (EX. NEAR EAST)             453125.0  28.0   \n",
       "\n",
       "     Pop. Density  Coastline  Net migration  Infant mortality      GDP  \\\n",
       "138      16271.50     205.00           7.75              5.43  27000.0   \n",
       "122      16183.04     146.43           4.86              4.39  19400.0   \n",
       "\n",
       "     Literacy   Phones  Arable  Crops  Other  Birthrate  Deathrate  \n",
       "138      99.0  1035.55     0.0    0.0  100.0       9.19      12.91  \n",
       "122      94.5   384.88     0.0    0.0  100.0       8.48       4.47  "
      ]
     },
     "execution_count": 465,
     "metadata": {},
     "output_type": "execute_result"
    }
   ],
   "source": [
    "countries.sort_values(by = 'Pop. Density', ascending = False)[:2]"
   ]
  },
  {
   "cell_type": "markdown",
   "metadata": {},
   "source": [
    "Indeed Monaco is a city-state and Macau, which is according to wikipedia the world's most populated area, so these data points are accurately large."
   ]
  },
  {
   "cell_type": "code",
   "execution_count": 466,
   "metadata": {},
   "outputs": [
    {
     "data": {
      "text/plain": [
       "<seaborn.axisgrid.FacetGrid at 0x26a33cc0f88>"
      ]
     },
     "execution_count": 466,
     "metadata": {},
     "output_type": "execute_result"
    },
    {
     "data": {
      "image/png": "[encoded data removed]",
      "text/plain": [
       "<Figure size 360x360 with 1 Axes>"
      ]
     },
     "metadata": {},
     "output_type": "display_data"
    }
   ],
   "source": [
    "sns.displot(countries, x=\"Phones\", binwidth=25)"
   ]
  },
  {
   "cell_type": "code",
   "execution_count": 467,
   "metadata": {},
   "outputs": [
    {
     "data": {
      "text/html": [
       "<div>\n",
       "<style scoped>\n",
       "    .dataframe tbody tr th:only-of-type {\n",
       "        vertical-align: middle;\n",
       "    }\n",
       "\n",
       "    .dataframe tbody tr th {\n",
       "        vertical-align: top;\n",
       "    }\n",
       "\n",
       "    .dataframe thead th {\n",
       "        text-align: right;\n",
       "    }\n",
       "</style>\n",
       "<table border=\"1\" class=\"dataframe\">\n",
       "  <thead>\n",
       "    <tr style=\"text-align: right;\">\n",
       "      <th></th>\n",
       "      <th>Country</th>\n",
       "      <th>Region</th>\n",
       "      <th>Population</th>\n",
       "      <th>Area</th>\n",
       "      <th>Pop. Density</th>\n",
       "      <th>Coastline</th>\n",
       "      <th>Net migration</th>\n",
       "      <th>Infant mortality</th>\n",
       "      <th>GDP</th>\n",
       "      <th>Literacy</th>\n",
       "      <th>Phones</th>\n",
       "      <th>Arable</th>\n",
       "      <th>Crops</th>\n",
       "      <th>Other</th>\n",
       "      <th>Birthrate</th>\n",
       "      <th>Deathrate</th>\n",
       "    </tr>\n",
       "  </thead>\n",
       "  <tbody>\n",
       "    <tr>\n",
       "      <th>138</th>\n",
       "      <td>Monaco</td>\n",
       "      <td>WESTERN EUROPE</td>\n",
       "      <td>32543.0</td>\n",
       "      <td>2.0</td>\n",
       "      <td>16271.50</td>\n",
       "      <td>205.00</td>\n",
       "      <td>7.75</td>\n",
       "      <td>5.43</td>\n",
       "      <td>27000.0</td>\n",
       "      <td>99.0</td>\n",
       "      <td>1035.55</td>\n",
       "      <td>0.00</td>\n",
       "      <td>0.00</td>\n",
       "      <td>100.00</td>\n",
       "      <td>9.19</td>\n",
       "      <td>12.91</td>\n",
       "    </tr>\n",
       "    <tr>\n",
       "      <th>214</th>\n",
       "      <td>United States</td>\n",
       "      <td>NORTHERN AMERICA</td>\n",
       "      <td>298444215.0</td>\n",
       "      <td>9631420.0</td>\n",
       "      <td>30.99</td>\n",
       "      <td>0.21</td>\n",
       "      <td>3.41</td>\n",
       "      <td>6.50</td>\n",
       "      <td>37800.0</td>\n",
       "      <td>97.0</td>\n",
       "      <td>897.99</td>\n",
       "      <td>19.13</td>\n",
       "      <td>0.22</td>\n",
       "      <td>80.65</td>\n",
       "      <td>14.14</td>\n",
       "      <td>8.26</td>\n",
       "    </tr>\n",
       "  </tbody>\n",
       "</table>\n",
       "</div>"
      ],
      "text/plain": [
       "            Country                               Region   Population  \\\n",
       "138         Monaco   WESTERN EUROPE                           32543.0   \n",
       "214  United States   NORTHERN AMERICA                     298444215.0   \n",
       "\n",
       "          Area  Pop. Density  Coastline  Net migration  Infant mortality  \\\n",
       "138        2.0      16271.50     205.00           7.75              5.43   \n",
       "214  9631420.0         30.99       0.21           3.41              6.50   \n",
       "\n",
       "         GDP  Literacy   Phones  Arable  Crops   Other  Birthrate  Deathrate  \n",
       "138  27000.0      99.0  1035.55    0.00   0.00  100.00       9.19      12.91  \n",
       "214  37800.0      97.0   897.99   19.13   0.22   80.65      14.14       8.26  "
      ]
     },
     "execution_count": 467,
     "metadata": {},
     "output_type": "execute_result"
    }
   ],
   "source": [
    "countries.sort_values(by = 'Phones', ascending = False)[:2]"
   ]
  },
  {
   "cell_type": "markdown",
   "metadata": {},
   "source": [
    "Phones per 1000 inhabitant is highest again for Monaco, but it understanble and the second in the rank is the US: almost the total opposite of Monaco. The US has very low population density but very high area and thus population, which makes phone coverage per 1000 so high."
   ]
  },
  {
   "cell_type": "code",
   "execution_count": 468,
   "metadata": {},
   "outputs": [
    {
     "data": {
      "text/plain": [
       "<AxesSubplot:xlabel='GDP', ylabel='Birthrate'>"
      ]
     },
     "execution_count": 468,
     "metadata": {},
     "output_type": "execute_result"
    },
    {
     "data": {
      "image/png": "[encoded data removed]",
      "text/plain": [
       "<Figure size 576x396 with 1 Axes>"
      ]
     },
     "metadata": {},
     "output_type": "display_data"
    }
   ],
   "source": [
    "sns.scatterplot(data=countries, x=\"GDP\", y=\"Birthrate\",  hue = \"Area\", size = \"Area\")"
   ]
  },
  {
   "cell_type": "markdown",
   "metadata": {},
   "source": [
    "A worth to look at relationship is between Birthrate and GDP: very high birthrates can be observed in countries with low GDP, and there is not much variation by population size. With area added, it is a bit more clear that bigger countries have lower birthrate in general regardless of their GDP."
   ]
  },
  {
   "cell_type": "code",
   "execution_count": 471,
   "metadata": {},
   "outputs": [],
   "source": [
    "# before merge I decided to drop some columns from the le_drinks_btsx dataframe\n",
    "le_drinks_btsx.drop(['GhoCode','GhoDisplay','PublishStateCode','PublishStateDisplay','YearCode', 'YearDisplay', 'RegionCode','WorldBankIncomeGroupGroupCode','CountryCode','SexCode','SexDisplay'], axis=1, inplace=True)"
   ]
  },
  {
   "cell_type": "code",
   "execution_count": 474,
   "metadata": {},
   "outputs": [],
   "source": [
    "countries.rename(columns={'Country': 'CountryDisplay'}, inplace = True)"
   ]
  },
  {
   "cell_type": "code",
   "execution_count": 488,
   "metadata": {},
   "outputs": [],
   "source": [
    "# remove all trailing spaces from the country names in the countries df, this was blocking the merge\n",
    "countries['CountryDisplay'] = countries['CountryDisplay'].str.rstrip()"
   ]
  },
  {
   "cell_type": "code",
   "execution_count": 478,
   "metadata": {},
   "outputs": [],
   "source": [
    "# le_drinks_btsx.CountryDisplay = le_drinks_btsx.CountryDisplay.astype(str)\n",
    "# countries.CountryDisplay = countries.CountryDisplay.astype(str)"
   ]
  },
  {
   "cell_type": "code",
   "execution_count": 490,
   "metadata": {},
   "outputs": [],
   "source": [
    "le_countries = pd.merge(le_drinks_btsx, countries, how = 'left', on = ['CountryDisplay'])"
   ]
  },
  {
   "cell_type": "code",
   "execution_count": 494,
   "metadata": {},
   "outputs": [
    {
     "data": {
      "text/html": [
       "<div>\n",
       "<style scoped>\n",
       "    .dataframe tbody tr th:only-of-type {\n",
       "        vertical-align: middle;\n",
       "    }\n",
       "\n",
       "    .dataframe tbody tr th {\n",
       "        vertical-align: top;\n",
       "    }\n",
       "\n",
       "    .dataframe thead th {\n",
       "        text-align: right;\n",
       "    }\n",
       "</style>\n",
       "<table border=\"1\" class=\"dataframe\">\n",
       "  <thead>\n",
       "    <tr style=\"text-align: right;\">\n",
       "      <th></th>\n",
       "      <th>RegionDisplay</th>\n",
       "      <th>WorldBankIncomeGroupDisplay</th>\n",
       "      <th>CountryDisplay</th>\n",
       "      <th>DisplayValue</th>\n",
       "      <th>Numeric</th>\n",
       "      <th>beer_servings</th>\n",
       "      <th>spirit_servings</th>\n",
       "      <th>wine_servings</th>\n",
       "      <th>total_litres_of_pure_alcohol</th>\n",
       "      <th>Region</th>\n",
       "      <th>...</th>\n",
       "      <th>Net migration</th>\n",
       "      <th>Infant mortality</th>\n",
       "      <th>GDP</th>\n",
       "      <th>Literacy</th>\n",
       "      <th>Phones</th>\n",
       "      <th>Arable</th>\n",
       "      <th>Crops</th>\n",
       "      <th>Other</th>\n",
       "      <th>Birthrate</th>\n",
       "      <th>Deathrate</th>\n",
       "    </tr>\n",
       "  </thead>\n",
       "  <tbody>\n",
       "    <tr>\n",
       "      <th>0</th>\n",
       "      <td>Eastern Mediterranean</td>\n",
       "      <td>NaN</td>\n",
       "      <td>Afghanistan</td>\n",
       "      <td>61</td>\n",
       "      <td>61.25205</td>\n",
       "      <td>0.0</td>\n",
       "      <td>0.0</td>\n",
       "      <td>0.0</td>\n",
       "      <td>0.0000</td>\n",
       "      <td>ASIA (EX. NEAR EAST)</td>\n",
       "      <td>...</td>\n",
       "      <td>23.06</td>\n",
       "      <td>163.07</td>\n",
       "      <td>700.0</td>\n",
       "      <td>36.0</td>\n",
       "      <td>3.22</td>\n",
       "      <td>12.13</td>\n",
       "      <td>0.22</td>\n",
       "      <td>87.65</td>\n",
       "      <td>46.60</td>\n",
       "      <td>20.34</td>\n",
       "    </tr>\n",
       "    <tr>\n",
       "      <th>1</th>\n",
       "      <td>Europe</td>\n",
       "      <td>NaN</td>\n",
       "      <td>Albania</td>\n",
       "      <td>74</td>\n",
       "      <td>74.13000</td>\n",
       "      <td>89.0</td>\n",
       "      <td>132.0</td>\n",
       "      <td>54.0</td>\n",
       "      <td>4.8675</td>\n",
       "      <td>EASTERN EUROPE</td>\n",
       "      <td>...</td>\n",
       "      <td>-4.93</td>\n",
       "      <td>21.52</td>\n",
       "      <td>4500.0</td>\n",
       "      <td>86.5</td>\n",
       "      <td>71.20</td>\n",
       "      <td>21.09</td>\n",
       "      <td>4.42</td>\n",
       "      <td>74.49</td>\n",
       "      <td>15.11</td>\n",
       "      <td>5.22</td>\n",
       "    </tr>\n",
       "    <tr>\n",
       "      <th>2</th>\n",
       "      <td>Africa</td>\n",
       "      <td>NaN</td>\n",
       "      <td>Algeria</td>\n",
       "      <td>72</td>\n",
       "      <td>71.82955</td>\n",
       "      <td>25.0</td>\n",
       "      <td>0.0</td>\n",
       "      <td>14.0</td>\n",
       "      <td>0.6903</td>\n",
       "      <td>NORTHERN AFRICA</td>\n",
       "      <td>...</td>\n",
       "      <td>-0.39</td>\n",
       "      <td>31.00</td>\n",
       "      <td>6000.0</td>\n",
       "      <td>70.0</td>\n",
       "      <td>78.10</td>\n",
       "      <td>3.22</td>\n",
       "      <td>0.25</td>\n",
       "      <td>96.53</td>\n",
       "      <td>17.14</td>\n",
       "      <td>4.61</td>\n",
       "    </tr>\n",
       "    <tr>\n",
       "      <th>3</th>\n",
       "      <td>Europe</td>\n",
       "      <td>NaN</td>\n",
       "      <td>Andorra</td>\n",
       "      <td>83</td>\n",
       "      <td>82.65301</td>\n",
       "      <td>245.0</td>\n",
       "      <td>138.0</td>\n",
       "      <td>312.0</td>\n",
       "      <td>12.3015</td>\n",
       "      <td>WESTERN EUROPE</td>\n",
       "      <td>...</td>\n",
       "      <td>6.60</td>\n",
       "      <td>4.05</td>\n",
       "      <td>19000.0</td>\n",
       "      <td>100.0</td>\n",
       "      <td>497.18</td>\n",
       "      <td>2.22</td>\n",
       "      <td>0.00</td>\n",
       "      <td>97.78</td>\n",
       "      <td>8.71</td>\n",
       "      <td>6.25</td>\n",
       "    </tr>\n",
       "    <tr>\n",
       "      <th>4</th>\n",
       "      <td>Africa</td>\n",
       "      <td>NaN</td>\n",
       "      <td>Angola</td>\n",
       "      <td>52</td>\n",
       "      <td>51.74093</td>\n",
       "      <td>217.0</td>\n",
       "      <td>57.0</td>\n",
       "      <td>45.0</td>\n",
       "      <td>5.6463</td>\n",
       "      <td>SUB-SAHARAN AFRICA</td>\n",
       "      <td>...</td>\n",
       "      <td>0.00</td>\n",
       "      <td>191.19</td>\n",
       "      <td>1900.0</td>\n",
       "      <td>42.0</td>\n",
       "      <td>7.78</td>\n",
       "      <td>2.41</td>\n",
       "      <td>0.24</td>\n",
       "      <td>97.35</td>\n",
       "      <td>45.11</td>\n",
       "      <td>24.20</td>\n",
       "    </tr>\n",
       "  </tbody>\n",
       "</table>\n",
       "<p>5 rows × 24 columns</p>\n",
       "</div>"
      ],
      "text/plain": [
       "           RegionDisplay WorldBankIncomeGroupDisplay CountryDisplay  \\\n",
       "0  Eastern Mediterranean                         NaN    Afghanistan   \n",
       "1                 Europe                         NaN        Albania   \n",
       "2                 Africa                         NaN        Algeria   \n",
       "3                 Europe                         NaN        Andorra   \n",
       "4                 Africa                         NaN         Angola   \n",
       "\n",
       "   DisplayValue   Numeric  beer_servings  spirit_servings  wine_servings  \\\n",
       "0            61  61.25205            0.0              0.0            0.0   \n",
       "1            74  74.13000           89.0            132.0           54.0   \n",
       "2            72  71.82955           25.0              0.0           14.0   \n",
       "3            83  82.65301          245.0            138.0          312.0   \n",
       "4            52  51.74093          217.0             57.0           45.0   \n",
       "\n",
       "   total_litres_of_pure_alcohol                               Region  ...  \\\n",
       "0                        0.0000        ASIA (EX. NEAR EAST)           ...   \n",
       "1                        4.8675  EASTERN EUROPE                       ...   \n",
       "2                        0.6903  NORTHERN AFRICA                      ...   \n",
       "3                       12.3015  WESTERN EUROPE                       ...   \n",
       "4                        5.6463  SUB-SAHARAN AFRICA                   ...   \n",
       "\n",
       "   Net migration  Infant mortality      GDP  Literacy  Phones  Arable  Crops  \\\n",
       "0          23.06            163.07    700.0      36.0    3.22   12.13   0.22   \n",
       "1          -4.93             21.52   4500.0      86.5   71.20   21.09   4.42   \n",
       "2          -0.39             31.00   6000.0      70.0   78.10    3.22   0.25   \n",
       "3           6.60              4.05  19000.0     100.0  497.18    2.22   0.00   \n",
       "4           0.00            191.19   1900.0      42.0    7.78    2.41   0.24   \n",
       "\n",
       "   Other  Birthrate  Deathrate  \n",
       "0  87.65      46.60      20.34  \n",
       "1  74.49      15.11       5.22  \n",
       "2  96.53      17.14       4.61  \n",
       "3  97.78       8.71       6.25  \n",
       "4  97.35      45.11      24.20  \n",
       "\n",
       "[5 rows x 24 columns]"
      ]
     },
     "execution_count": 494,
     "metadata": {},
     "output_type": "execute_result"
    }
   ],
   "source": [
    "le_countries.head()"
   ]
  },
  {
   "cell_type": "markdown",
   "metadata": {},
   "source": [
    "### 8. Find factors that are highly correlated to the expected lifetime"
   ]
  },
  {
   "cell_type": "code",
   "execution_count": 495,
   "metadata": {},
   "outputs": [
    {
     "data": {
      "text/html": [
       "<div>\n",
       "<style scoped>\n",
       "    .dataframe tbody tr th:only-of-type {\n",
       "        vertical-align: middle;\n",
       "    }\n",
       "\n",
       "    .dataframe tbody tr th {\n",
       "        vertical-align: top;\n",
       "    }\n",
       "\n",
       "    .dataframe thead th {\n",
       "        text-align: right;\n",
       "    }\n",
       "</style>\n",
       "<table border=\"1\" class=\"dataframe\">\n",
       "  <thead>\n",
       "    <tr style=\"text-align: right;\">\n",
       "      <th></th>\n",
       "      <th>Area</th>\n",
       "      <th>Birthrate</th>\n",
       "      <th>Net migration</th>\n",
       "      <th>Coastline</th>\n",
       "      <th>Arable</th>\n",
       "      <th>Crops</th>\n",
       "      <th>beer_servings</th>\n",
       "      <th>Literacy</th>\n",
       "      <th>wine_servings</th>\n",
       "      <th>Infant mortality</th>\n",
       "      <th>Pop. Density</th>\n",
       "      <th>Other</th>\n",
       "      <th>DisplayValue</th>\n",
       "      <th>GDP</th>\n",
       "      <th>Deathrate</th>\n",
       "      <th>spirit_servings</th>\n",
       "      <th>Numeric</th>\n",
       "      <th>Phones</th>\n",
       "      <th>Population</th>\n",
       "      <th>total_litres_of_pure_alcohol</th>\n",
       "    </tr>\n",
       "  </thead>\n",
       "  <tbody>\n",
       "    <tr>\n",
       "      <th>Area</th>\n",
       "      <td>1.000000</td>\n",
       "      <td>-0.065680</td>\n",
       "      <td>0.067427</td>\n",
       "      <td>-0.110140</td>\n",
       "      <td>-0.109756</td>\n",
       "      <td>-0.165267</td>\n",
       "      <td>0.092734</td>\n",
       "      <td>0.012709</td>\n",
       "      <td>0.001124</td>\n",
       "      <td>-0.014559</td>\n",
       "      <td>-0.064780</td>\n",
       "      <td>0.167951</td>\n",
       "      <td>0.044802</td>\n",
       "      <td>0.062664</td>\n",
       "      <td>-0.058802</td>\n",
       "      <td>0.048055</td>\n",
       "      <td>0.045430</td>\n",
       "      <td>0.066147</td>\n",
       "      <td>0.535073</td>\n",
       "      <td>0.065310</td>\n",
       "    </tr>\n",
       "    <tr>\n",
       "      <th>Birthrate</th>\n",
       "      <td>-0.065680</td>\n",
       "      <td>1.000000</td>\n",
       "      <td>-0.050458</td>\n",
       "      <td>-0.058048</td>\n",
       "      <td>-0.230488</td>\n",
       "      <td>0.042190</td>\n",
       "      <td>-0.539368</td>\n",
       "      <td>-0.782862</td>\n",
       "      <td>-0.527652</td>\n",
       "      <td>0.849831</td>\n",
       "      <td>-0.141843</td>\n",
       "      <td>0.170930</td>\n",
       "      <td>-0.817211</td>\n",
       "      <td>-0.649092</td>\n",
       "      <td>0.392894</td>\n",
       "      <td>-0.492166</td>\n",
       "      <td>-0.817832</td>\n",
       "      <td>-0.745257</td>\n",
       "      <td>-0.059946</td>\n",
       "      <td>-0.669170</td>\n",
       "    </tr>\n",
       "    <tr>\n",
       "      <th>Net migration</th>\n",
       "      <td>0.067427</td>\n",
       "      <td>-0.050458</td>\n",
       "      <td>1.000000</td>\n",
       "      <td>0.053383</td>\n",
       "      <td>-0.081451</td>\n",
       "      <td>-0.307273</td>\n",
       "      <td>0.005177</td>\n",
       "      <td>-0.049002</td>\n",
       "      <td>0.202505</td>\n",
       "      <td>0.011928</td>\n",
       "      <td>0.219946</td>\n",
       "      <td>0.210774</td>\n",
       "      <td>0.144402</td>\n",
       "      <td>0.427448</td>\n",
       "      <td>0.072796</td>\n",
       "      <td>-0.265814</td>\n",
       "      <td>0.146287</td>\n",
       "      <td>0.285554</td>\n",
       "      <td>-0.012423</td>\n",
       "      <td>-0.026803</td>\n",
       "    </tr>\n",
       "    <tr>\n",
       "      <th>Coastline</th>\n",
       "      <td>-0.110140</td>\n",
       "      <td>-0.058048</td>\n",
       "      <td>0.053383</td>\n",
       "      <td>1.000000</td>\n",
       "      <td>-0.125957</td>\n",
       "      <td>0.261920</td>\n",
       "      <td>-0.017267</td>\n",
       "      <td>0.105912</td>\n",
       "      <td>-0.093076</td>\n",
       "      <td>-0.126327</td>\n",
       "      <td>0.414879</td>\n",
       "      <td>-0.018028</td>\n",
       "      <td>0.126595</td>\n",
       "      <td>0.013954</td>\n",
       "      <td>-0.111165</td>\n",
       "      <td>-0.081117</td>\n",
       "      <td>0.123655</td>\n",
       "      <td>0.167797</td>\n",
       "      <td>-0.065862</td>\n",
       "      <td>-0.077660</td>\n",
       "    </tr>\n",
       "    <tr>\n",
       "      <th>Arable</th>\n",
       "      <td>-0.109756</td>\n",
       "      <td>-0.230488</td>\n",
       "      <td>-0.081451</td>\n",
       "      <td>-0.125957</td>\n",
       "      <td>1.000000</td>\n",
       "      <td>0.126925</td>\n",
       "      <td>0.205258</td>\n",
       "      <td>0.098518</td>\n",
       "      <td>0.169035</td>\n",
       "      <td>-0.138329</td>\n",
       "      <td>-0.056821</td>\n",
       "      <td>-0.886416</td>\n",
       "      <td>0.085773</td>\n",
       "      <td>0.026413</td>\n",
       "      <td>0.027391</td>\n",
       "      <td>0.267615</td>\n",
       "      <td>0.085376</td>\n",
       "      <td>0.097156</td>\n",
       "      <td>0.197908</td>\n",
       "      <td>0.274970</td>\n",
       "    </tr>\n",
       "    <tr>\n",
       "      <th>Crops</th>\n",
       "      <td>-0.165267</td>\n",
       "      <td>0.042190</td>\n",
       "      <td>-0.307273</td>\n",
       "      <td>0.261920</td>\n",
       "      <td>0.126925</td>\n",
       "      <td>1.000000</td>\n",
       "      <td>-0.163045</td>\n",
       "      <td>0.106958</td>\n",
       "      <td>-0.118839</td>\n",
       "      <td>-0.102037</td>\n",
       "      <td>-0.032563</td>\n",
       "      <td>-0.571654</td>\n",
       "      <td>0.024824</td>\n",
       "      <td>-0.178789</td>\n",
       "      <td>-0.213866</td>\n",
       "      <td>0.047015</td>\n",
       "      <td>0.024712</td>\n",
       "      <td>-0.095870</td>\n",
       "      <td>-0.053074</td>\n",
       "      <td>-0.106805</td>\n",
       "    </tr>\n",
       "    <tr>\n",
       "      <th>beer_servings</th>\n",
       "      <td>0.092734</td>\n",
       "      <td>-0.539368</td>\n",
       "      <td>0.005177</td>\n",
       "      <td>-0.017267</td>\n",
       "      <td>0.205258</td>\n",
       "      <td>-0.163045</td>\n",
       "      <td>1.000000</td>\n",
       "      <td>0.501225</td>\n",
       "      <td>0.545010</td>\n",
       "      <td>-0.448436</td>\n",
       "      <td>-0.105660</td>\n",
       "      <td>-0.093665</td>\n",
       "      <td>0.413581</td>\n",
       "      <td>0.466539</td>\n",
       "      <td>0.027922</td>\n",
       "      <td>0.448716</td>\n",
       "      <td>0.413598</td>\n",
       "      <td>0.472438</td>\n",
       "      <td>-0.074137</td>\n",
       "      <td>0.879279</td>\n",
       "    </tr>\n",
       "    <tr>\n",
       "      <th>Literacy</th>\n",
       "      <td>0.012709</td>\n",
       "      <td>-0.782862</td>\n",
       "      <td>-0.049002</td>\n",
       "      <td>0.105912</td>\n",
       "      <td>0.098518</td>\n",
       "      <td>0.106958</td>\n",
       "      <td>0.501225</td>\n",
       "      <td>1.000000</td>\n",
       "      <td>0.432020</td>\n",
       "      <td>-0.749924</td>\n",
       "      <td>0.089402</td>\n",
       "      <td>-0.131397</td>\n",
       "      <td>0.680396</td>\n",
       "      <td>0.506337</td>\n",
       "      <td>-0.346188</td>\n",
       "      <td>0.469214</td>\n",
       "      <td>0.679175</td>\n",
       "      <td>0.598492</td>\n",
       "      <td>-0.047840</td>\n",
       "      <td>0.603976</td>\n",
       "    </tr>\n",
       "    <tr>\n",
       "      <th>wine_servings</th>\n",
       "      <td>0.001124</td>\n",
       "      <td>-0.527652</td>\n",
       "      <td>0.202505</td>\n",
       "      <td>-0.093076</td>\n",
       "      <td>0.169035</td>\n",
       "      <td>-0.118839</td>\n",
       "      <td>0.545010</td>\n",
       "      <td>0.432020</td>\n",
       "      <td>1.000000</td>\n",
       "      <td>-0.422025</td>\n",
       "      <td>-0.063588</td>\n",
       "      <td>-0.084340</td>\n",
       "      <td>0.476492</td>\n",
       "      <td>0.628390</td>\n",
       "      <td>-0.020235</td>\n",
       "      <td>0.204746</td>\n",
       "      <td>0.477230</td>\n",
       "      <td>0.607565</td>\n",
       "      <td>-0.080468</td>\n",
       "      <td>0.731809</td>\n",
       "    </tr>\n",
       "    <tr>\n",
       "      <th>Infant mortality</th>\n",
       "      <td>-0.014559</td>\n",
       "      <td>0.849831</td>\n",
       "      <td>0.011928</td>\n",
       "      <td>-0.126327</td>\n",
       "      <td>-0.138329</td>\n",
       "      <td>-0.102037</td>\n",
       "      <td>-0.448436</td>\n",
       "      <td>-0.749924</td>\n",
       "      <td>-0.422025</td>\n",
       "      <td>1.000000</td>\n",
       "      <td>-0.118700</td>\n",
       "      <td>0.162077</td>\n",
       "      <td>-0.855890</td>\n",
       "      <td>-0.595094</td>\n",
       "      <td>0.640982</td>\n",
       "      <td>-0.391506</td>\n",
       "      <td>-0.856201</td>\n",
       "      <td>-0.668069</td>\n",
       "      <td>0.008620</td>\n",
       "      <td>-0.542673</td>\n",
       "    </tr>\n",
       "    <tr>\n",
       "      <th>Pop. Density</th>\n",
       "      <td>-0.064780</td>\n",
       "      <td>-0.141843</td>\n",
       "      <td>0.219946</td>\n",
       "      <td>0.414879</td>\n",
       "      <td>-0.056821</td>\n",
       "      <td>-0.032563</td>\n",
       "      <td>-0.105660</td>\n",
       "      <td>0.089402</td>\n",
       "      <td>-0.063588</td>\n",
       "      <td>-0.118700</td>\n",
       "      <td>1.000000</td>\n",
       "      <td>0.062207</td>\n",
       "      <td>0.162704</td>\n",
       "      <td>0.193771</td>\n",
       "      <td>-0.013464</td>\n",
       "      <td>-0.093960</td>\n",
       "      <td>0.162287</td>\n",
       "      <td>0.368512</td>\n",
       "      <td>-0.015111</td>\n",
       "      <td>-0.114611</td>\n",
       "    </tr>\n",
       "    <tr>\n",
       "      <th>Other</th>\n",
       "      <td>0.167951</td>\n",
       "      <td>0.170930</td>\n",
       "      <td>0.210774</td>\n",
       "      <td>-0.018028</td>\n",
       "      <td>-0.886416</td>\n",
       "      <td>-0.571654</td>\n",
       "      <td>-0.093665</td>\n",
       "      <td>-0.131397</td>\n",
       "      <td>-0.084340</td>\n",
       "      <td>0.162077</td>\n",
       "      <td>0.062207</td>\n",
       "      <td>1.000000</td>\n",
       "      <td>-0.082568</td>\n",
       "      <td>0.061562</td>\n",
       "      <td>0.077206</td>\n",
       "      <td>-0.243288</td>\n",
       "      <td>-0.082188</td>\n",
       "      <td>-0.035608</td>\n",
       "      <td>-0.138934</td>\n",
       "      <td>-0.177574</td>\n",
       "    </tr>\n",
       "    <tr>\n",
       "      <th>DisplayValue</th>\n",
       "      <td>0.044802</td>\n",
       "      <td>-0.817211</td>\n",
       "      <td>0.144402</td>\n",
       "      <td>0.126595</td>\n",
       "      <td>0.085773</td>\n",
       "      <td>0.024824</td>\n",
       "      <td>0.413581</td>\n",
       "      <td>0.680396</td>\n",
       "      <td>0.476492</td>\n",
       "      <td>-0.855890</td>\n",
       "      <td>0.162704</td>\n",
       "      <td>-0.082568</td>\n",
       "      <td>1.000000</td>\n",
       "      <td>0.693007</td>\n",
       "      <td>-0.648260</td>\n",
       "      <td>0.338570</td>\n",
       "      <td>0.999423</td>\n",
       "      <td>0.751077</td>\n",
       "      <td>-0.006537</td>\n",
       "      <td>0.522999</td>\n",
       "    </tr>\n",
       "    <tr>\n",
       "      <th>GDP</th>\n",
       "      <td>0.062664</td>\n",
       "      <td>-0.649092</td>\n",
       "      <td>0.427448</td>\n",
       "      <td>0.013954</td>\n",
       "      <td>0.026413</td>\n",
       "      <td>-0.178789</td>\n",
       "      <td>0.466539</td>\n",
       "      <td>0.506337</td>\n",
       "      <td>0.628390</td>\n",
       "      <td>-0.595094</td>\n",
       "      <td>0.193771</td>\n",
       "      <td>0.061562</td>\n",
       "      <td>0.693007</td>\n",
       "      <td>1.000000</td>\n",
       "      <td>-0.190499</td>\n",
       "      <td>0.168133</td>\n",
       "      <td>0.692861</td>\n",
       "      <td>0.861053</td>\n",
       "      <td>-0.065219</td>\n",
       "      <td>0.540955</td>\n",
       "    </tr>\n",
       "    <tr>\n",
       "      <th>Deathrate</th>\n",
       "      <td>-0.058802</td>\n",
       "      <td>0.392894</td>\n",
       "      <td>0.072796</td>\n",
       "      <td>-0.111165</td>\n",
       "      <td>0.027391</td>\n",
       "      <td>-0.213866</td>\n",
       "      <td>0.027922</td>\n",
       "      <td>-0.346188</td>\n",
       "      <td>-0.020235</td>\n",
       "      <td>0.640982</td>\n",
       "      <td>-0.013464</td>\n",
       "      <td>0.077206</td>\n",
       "      <td>-0.648260</td>\n",
       "      <td>-0.190499</td>\n",
       "      <td>1.000000</td>\n",
       "      <td>-0.116308</td>\n",
       "      <td>-0.647032</td>\n",
       "      <td>-0.223100</td>\n",
       "      <td>-0.064472</td>\n",
       "      <td>-0.041545</td>\n",
       "    </tr>\n",
       "    <tr>\n",
       "      <th>spirit_servings</th>\n",
       "      <td>0.048055</td>\n",
       "      <td>-0.492166</td>\n",
       "      <td>-0.265814</td>\n",
       "      <td>-0.081117</td>\n",
       "      <td>0.267615</td>\n",
       "      <td>0.047015</td>\n",
       "      <td>0.448716</td>\n",
       "      <td>0.469214</td>\n",
       "      <td>0.204746</td>\n",
       "      <td>-0.391506</td>\n",
       "      <td>-0.093960</td>\n",
       "      <td>-0.243288</td>\n",
       "      <td>0.338570</td>\n",
       "      <td>0.168133</td>\n",
       "      <td>-0.116308</td>\n",
       "      <td>1.000000</td>\n",
       "      <td>0.334653</td>\n",
       "      <td>0.308955</td>\n",
       "      <td>0.082763</td>\n",
       "      <td>0.709475</td>\n",
       "    </tr>\n",
       "    <tr>\n",
       "      <th>Numeric</th>\n",
       "      <td>0.045430</td>\n",
       "      <td>-0.817832</td>\n",
       "      <td>0.146287</td>\n",
       "      <td>0.123655</td>\n",
       "      <td>0.085376</td>\n",
       "      <td>0.024712</td>\n",
       "      <td>0.413598</td>\n",
       "      <td>0.679175</td>\n",
       "      <td>0.477230</td>\n",
       "      <td>-0.856201</td>\n",
       "      <td>0.162287</td>\n",
       "      <td>-0.082188</td>\n",
       "      <td>0.999423</td>\n",
       "      <td>0.692861</td>\n",
       "      <td>-0.647032</td>\n",
       "      <td>0.334653</td>\n",
       "      <td>1.000000</td>\n",
       "      <td>0.750334</td>\n",
       "      <td>-0.002777</td>\n",
       "      <td>0.521671</td>\n",
       "    </tr>\n",
       "    <tr>\n",
       "      <th>Phones</th>\n",
       "      <td>0.066147</td>\n",
       "      <td>-0.745257</td>\n",
       "      <td>0.285554</td>\n",
       "      <td>0.167797</td>\n",
       "      <td>0.097156</td>\n",
       "      <td>-0.095870</td>\n",
       "      <td>0.472438</td>\n",
       "      <td>0.598492</td>\n",
       "      <td>0.607565</td>\n",
       "      <td>-0.668069</td>\n",
       "      <td>0.368512</td>\n",
       "      <td>-0.035608</td>\n",
       "      <td>0.751077</td>\n",
       "      <td>0.861053</td>\n",
       "      <td>-0.223100</td>\n",
       "      <td>0.308955</td>\n",
       "      <td>0.750334</td>\n",
       "      <td>1.000000</td>\n",
       "      <td>-0.030110</td>\n",
       "      <td>0.593024</td>\n",
       "    </tr>\n",
       "    <tr>\n",
       "      <th>Population</th>\n",
       "      <td>0.535073</td>\n",
       "      <td>-0.059946</td>\n",
       "      <td>-0.012423</td>\n",
       "      <td>-0.065862</td>\n",
       "      <td>0.197908</td>\n",
       "      <td>-0.053074</td>\n",
       "      <td>-0.074137</td>\n",
       "      <td>-0.047840</td>\n",
       "      <td>-0.080468</td>\n",
       "      <td>0.008620</td>\n",
       "      <td>-0.015111</td>\n",
       "      <td>-0.138934</td>\n",
       "      <td>-0.006537</td>\n",
       "      <td>-0.065219</td>\n",
       "      <td>-0.064472</td>\n",
       "      <td>0.082763</td>\n",
       "      <td>-0.002777</td>\n",
       "      <td>-0.030110</td>\n",
       "      <td>1.000000</td>\n",
       "      <td>-0.033878</td>\n",
       "    </tr>\n",
       "    <tr>\n",
       "      <th>total_litres_of_pure_alcohol</th>\n",
       "      <td>0.065310</td>\n",
       "      <td>-0.669170</td>\n",
       "      <td>-0.026803</td>\n",
       "      <td>-0.077660</td>\n",
       "      <td>0.274970</td>\n",
       "      <td>-0.106805</td>\n",
       "      <td>0.879279</td>\n",
       "      <td>0.603976</td>\n",
       "      <td>0.731809</td>\n",
       "      <td>-0.542673</td>\n",
       "      <td>-0.114611</td>\n",
       "      <td>-0.177574</td>\n",
       "      <td>0.522999</td>\n",
       "      <td>0.540955</td>\n",
       "      <td>-0.041545</td>\n",
       "      <td>0.709475</td>\n",
       "      <td>0.521671</td>\n",
       "      <td>0.593024</td>\n",
       "      <td>-0.033878</td>\n",
       "      <td>1.000000</td>\n",
       "    </tr>\n",
       "  </tbody>\n",
       "</table>\n",
       "</div>"
      ],
      "text/plain": [
       "                                  Area  Birthrate  Net migration  Coastline  \\\n",
       "Area                          1.000000  -0.065680       0.067427  -0.110140   \n",
       "Birthrate                    -0.065680   1.000000      -0.050458  -0.058048   \n",
       "Net migration                 0.067427  -0.050458       1.000000   0.053383   \n",
       "Coastline                    -0.110140  -0.058048       0.053383   1.000000   \n",
       "Arable                       -0.109756  -0.230488      -0.081451  -0.125957   \n",
       "Crops                        -0.165267   0.042190      -0.307273   0.261920   \n",
       "beer_servings                 0.092734  -0.539368       0.005177  -0.017267   \n",
       "Literacy                      0.012709  -0.782862      -0.049002   0.105912   \n",
       "wine_servings                 0.001124  -0.527652       0.202505  -0.093076   \n",
       "Infant mortality             -0.014559   0.849831       0.011928  -0.126327   \n",
       "Pop. Density                 -0.064780  -0.141843       0.219946   0.414879   \n",
       "Other                         0.167951   0.170930       0.210774  -0.018028   \n",
       "DisplayValue                  0.044802  -0.817211       0.144402   0.126595   \n",
       "GDP                           0.062664  -0.649092       0.427448   0.013954   \n",
       "Deathrate                    -0.058802   0.392894       0.072796  -0.111165   \n",
       "spirit_servings               0.048055  -0.492166      -0.265814  -0.081117   \n",
       "Numeric                       0.045430  -0.817832       0.146287   0.123655   \n",
       "Phones                        0.066147  -0.745257       0.285554   0.167797   \n",
       "Population                    0.535073  -0.059946      -0.012423  -0.065862   \n",
       "total_litres_of_pure_alcohol  0.065310  -0.669170      -0.026803  -0.077660   \n",
       "\n",
       "                                Arable     Crops  beer_servings  Literacy  \\\n",
       "Area                         -0.109756 -0.165267       0.092734  0.012709   \n",
       "Birthrate                    -0.230488  0.042190      -0.539368 -0.782862   \n",
       "Net migration                -0.081451 -0.307273       0.005177 -0.049002   \n",
       "Coastline                    -0.125957  0.261920      -0.017267  0.105912   \n",
       "Arable                        1.000000  0.126925       0.205258  0.098518   \n",
       "Crops                         0.126925  1.000000      -0.163045  0.106958   \n",
       "beer_servings                 0.205258 -0.163045       1.000000  0.501225   \n",
       "Literacy                      0.098518  0.106958       0.501225  1.000000   \n",
       "wine_servings                 0.169035 -0.118839       0.545010  0.432020   \n",
       "Infant mortality             -0.138329 -0.102037      -0.448436 -0.749924   \n",
       "Pop. Density                 -0.056821 -0.032563      -0.105660  0.089402   \n",
       "Other                        -0.886416 -0.571654      -0.093665 -0.131397   \n",
       "DisplayValue                  0.085773  0.024824       0.413581  0.680396   \n",
       "GDP                           0.026413 -0.178789       0.466539  0.506337   \n",
       "Deathrate                     0.027391 -0.213866       0.027922 -0.346188   \n",
       "spirit_servings               0.267615  0.047015       0.448716  0.469214   \n",
       "Numeric                       0.085376  0.024712       0.413598  0.679175   \n",
       "Phones                        0.097156 -0.095870       0.472438  0.598492   \n",
       "Population                    0.197908 -0.053074      -0.074137 -0.047840   \n",
       "total_litres_of_pure_alcohol  0.274970 -0.106805       0.879279  0.603976   \n",
       "\n",
       "                              wine_servings  Infant mortality  Pop. Density  \\\n",
       "Area                               0.001124         -0.014559     -0.064780   \n",
       "Birthrate                         -0.527652          0.849831     -0.141843   \n",
       "Net migration                      0.202505          0.011928      0.219946   \n",
       "Coastline                         -0.093076         -0.126327      0.414879   \n",
       "Arable                             0.169035         -0.138329     -0.056821   \n",
       "Crops                             -0.118839         -0.102037     -0.032563   \n",
       "beer_servings                      0.545010         -0.448436     -0.105660   \n",
       "Literacy                           0.432020         -0.749924      0.089402   \n",
       "wine_servings                      1.000000         -0.422025     -0.063588   \n",
       "Infant mortality                  -0.422025          1.000000     -0.118700   \n",
       "Pop. Density                      -0.063588         -0.118700      1.000000   \n",
       "Other                             -0.084340          0.162077      0.062207   \n",
       "DisplayValue                       0.476492         -0.855890      0.162704   \n",
       "GDP                                0.628390         -0.595094      0.193771   \n",
       "Deathrate                         -0.020235          0.640982     -0.013464   \n",
       "spirit_servings                    0.204746         -0.391506     -0.093960   \n",
       "Numeric                            0.477230         -0.856201      0.162287   \n",
       "Phones                             0.607565         -0.668069      0.368512   \n",
       "Population                        -0.080468          0.008620     -0.015111   \n",
       "total_litres_of_pure_alcohol       0.731809         -0.542673     -0.114611   \n",
       "\n",
       "                                 Other  DisplayValue       GDP  Deathrate  \\\n",
       "Area                          0.167951      0.044802  0.062664  -0.058802   \n",
       "Birthrate                     0.170930     -0.817211 -0.649092   0.392894   \n",
       "Net migration                 0.210774      0.144402  0.427448   0.072796   \n",
       "Coastline                    -0.018028      0.126595  0.013954  -0.111165   \n",
       "Arable                       -0.886416      0.085773  0.026413   0.027391   \n",
       "Crops                        -0.571654      0.024824 -0.178789  -0.213866   \n",
       "beer_servings                -0.093665      0.413581  0.466539   0.027922   \n",
       "Literacy                     -0.131397      0.680396  0.506337  -0.346188   \n",
       "wine_servings                -0.084340      0.476492  0.628390  -0.020235   \n",
       "Infant mortality              0.162077     -0.855890 -0.595094   0.640982   \n",
       "Pop. Density                  0.062207      0.162704  0.193771  -0.013464   \n",
       "Other                         1.000000     -0.082568  0.061562   0.077206   \n",
       "DisplayValue                 -0.082568      1.000000  0.693007  -0.648260   \n",
       "GDP                           0.061562      0.693007  1.000000  -0.190499   \n",
       "Deathrate                     0.077206     -0.648260 -0.190499   1.000000   \n",
       "spirit_servings              -0.243288      0.338570  0.168133  -0.116308   \n",
       "Numeric                      -0.082188      0.999423  0.692861  -0.647032   \n",
       "Phones                       -0.035608      0.751077  0.861053  -0.223100   \n",
       "Population                   -0.138934     -0.006537 -0.065219  -0.064472   \n",
       "total_litres_of_pure_alcohol -0.177574      0.522999  0.540955  -0.041545   \n",
       "\n",
       "                              spirit_servings   Numeric    Phones  Population  \\\n",
       "Area                                 0.048055  0.045430  0.066147    0.535073   \n",
       "Birthrate                           -0.492166 -0.817832 -0.745257   -0.059946   \n",
       "Net migration                       -0.265814  0.146287  0.285554   -0.012423   \n",
       "Coastline                           -0.081117  0.123655  0.167797   -0.065862   \n",
       "Arable                               0.267615  0.085376  0.097156    0.197908   \n",
       "Crops                                0.047015  0.024712 -0.095870   -0.053074   \n",
       "beer_servings                        0.448716  0.413598  0.472438   -0.074137   \n",
       "Literacy                             0.469214  0.679175  0.598492   -0.047840   \n",
       "wine_servings                        0.204746  0.477230  0.607565   -0.080468   \n",
       "Infant mortality                    -0.391506 -0.856201 -0.668069    0.008620   \n",
       "Pop. Density                        -0.093960  0.162287  0.368512   -0.015111   \n",
       "Other                               -0.243288 -0.082188 -0.035608   -0.138934   \n",
       "DisplayValue                         0.338570  0.999423  0.751077   -0.006537   \n",
       "GDP                                  0.168133  0.692861  0.861053   -0.065219   \n",
       "Deathrate                           -0.116308 -0.647032 -0.223100   -0.064472   \n",
       "spirit_servings                      1.000000  0.334653  0.308955    0.082763   \n",
       "Numeric                              0.334653  1.000000  0.750334   -0.002777   \n",
       "Phones                               0.308955  0.750334  1.000000   -0.030110   \n",
       "Population                           0.082763 -0.002777 -0.030110    1.000000   \n",
       "total_litres_of_pure_alcohol         0.709475  0.521671  0.593024   -0.033878   \n",
       "\n",
       "                              total_litres_of_pure_alcohol  \n",
       "Area                                              0.065310  \n",
       "Birthrate                                        -0.669170  \n",
       "Net migration                                    -0.026803  \n",
       "Coastline                                        -0.077660  \n",
       "Arable                                            0.274970  \n",
       "Crops                                            -0.106805  \n",
       "beer_servings                                     0.879279  \n",
       "Literacy                                          0.603976  \n",
       "wine_servings                                     0.731809  \n",
       "Infant mortality                                 -0.542673  \n",
       "Pop. Density                                     -0.114611  \n",
       "Other                                            -0.177574  \n",
       "DisplayValue                                      0.522999  \n",
       "GDP                                               0.540955  \n",
       "Deathrate                                        -0.041545  \n",
       "spirit_servings                                   0.709475  \n",
       "Numeric                                           0.521671  \n",
       "Phones                                            0.593024  \n",
       "Population                                       -0.033878  \n",
       "total_litres_of_pure_alcohol                      1.000000  "
      ]
     },
     "execution_count": 495,
     "metadata": {},
     "output_type": "execute_result"
    }
   ],
   "source": [
    "# check correlation for numeric variables\n",
    "to_drop = set(le_countries.columns) - {'RegionDisplay', 'WorldBankIncomeGroupDisplay', 'CountryDisplay', 'Region'}\n",
    "le_countries[list(to_drop)].corr()"
   ]
  },
  {
   "cell_type": "code",
   "execution_count": 500,
   "metadata": {},
   "outputs": [
    {
     "data": {
      "text/plain": [
       "<AxesSubplot:>"
      ]
     },
     "execution_count": 500,
     "metadata": {},
     "output_type": "execute_result"
    },
    {
     "data": {
      "image/png": "[encoded data removed]",
      "text/plain": [
       "<Figure size 792x648 with 2 Axes>"
      ]
     },
     "metadata": {},
     "output_type": "display_data"
    }
   ],
   "source": [
    "# It is more helpful to put the numbers on a colored matrix\n",
    "\n",
    "# Compute the correlation matrix\n",
    "corr = le_countries.corr()\n",
    "\n",
    "# Generate a mask for the upper triangle\n",
    "mask = np.triu(np.ones_like(corr, dtype=bool))\n",
    "\n",
    "# Set up the matplotlib figure\n",
    "f, ax = plt.subplots(figsize=(11, 9))\n",
    "\n",
    "# Generate a custom diverging colormap\n",
    "cmap = sns.diverging_palette(230, 20, as_cmap=True)\n",
    "\n",
    "# Draw the heatmap with the mask and correct aspect ratio\n",
    "sns.heatmap(corr, mask=mask, cmap=cmap, annot = True, vmax=1, vmin = -1, center=0,\n",
    "            square=True, linewidths=.5, cbar_kws={\"shrink\": .5})"
   ]
  },
  {
   "cell_type": "markdown",
   "metadata": {},
   "source": [
    "Based on the above correlation matrix, DisplayValue and Numeric (they are the same basically, aka life expectancy), have a strong negative correlation with Infant mortality and Birthrate; and have a somewhat strong positive correlation with Phones and GDP/Literacy."
   ]
  },
  {
   "cell_type": "markdown",
   "metadata": {},
   "source": [
    "### 9. Summarize the insights, explain the most important factor"
   ]
  },
  {
   "cell_type": "markdown",
   "metadata": {},
   "source": [
    "In the above matrix we can indeed find the 0.52 correlation between total liters of alcohol and life expectancy, but other factors have even stronger correlation with these two variables. Starting with life expectancy the correlations worth mentioning are the following in descending order:\n",
    "* Infant mortality per 1000 births: the higher the mortality the lower life expectancy is in a certain country. This can be the case where access to hospitals or basic medical services is limited and/or prenatal care is not that advanced. There is a higher rate of babies born with deseases that were not detected before or when detected after the birth, applying medical care is not even successful. So in this case babies' chance of being healthy or given the proper treatment is lower in these countries. Infant mortality is inversely strongly correlated with literacy, i.e in countries where then number of literate inhabitants is low. Not enough information is reaching parents about the threats and probably also not enough care and caution is taken during one's pregnancy. Self-evidently there is a 0.85 correlation between infant mortality and birthrate - the higher the rate of newborn babies the higher proportion of infants could die.\n",
    "* Phones per 1000: it shows 0.75 correlation with life expectancy, but even stronger (0.86) relationship with GDP. In countries with high GDP more inhabitants can afford to have a phone and that loops back to birthrate with a negative correlation of -0.65. This could be an interesting relationship to think about: in case of higher GDP the birthrate will descrease. This is the case in the first world countries, where despite wealth there are only 1 or maximum 2 children born per family on average.\n",
    "* Birthrate (the number of live births per thousand of population per year): Since birthrate is highly correlated with infant mortality, it is also highly correlated with life expectancy I think.\n",
    "* GDP and Literacy go hand in hand also in terms of total liters of alcohol consumed.\n",
    "\n",
    "All these suggest to me that although life expectancy depends the most on child mortality, that can be traced back to the GDP of the country. Many factors have intertwined effects, probably enforcing each other, so these are not the true measures of effect for these factors."
   ]
  }
 ],
 "metadata": {
  "kernelspec": {
   "display_name": "Python 3",
   "language": "python",
   "name": "python3"
  },
  "language_info": {
   "codemirror_mode": {
    "name": "ipython",
    "version": 3
   },
   "file_extension": ".py",
   "mimetype": "text/x-python",
   "name": "python",
   "nbconvert_exporter": "python",
   "pygments_lexer": "ipython3",
   "version": "3.7.6"
  }
 },
 "nbformat": 4,
 "nbformat_minor": 4
}
